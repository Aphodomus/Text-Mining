{
 "cells": [
  {
   "cell_type": "markdown",
   "metadata": {},
   "source": [
    "# **N-Gram**\n",
    "Basicamente propoe capturar correlação entre palavras dentro de um documento, usando janelas de distância das palavras. n = 1 é um unigrama, n = 2 é um bigrama. O BoW é um modelo unigrama, n = 1. Capturar melhor a relação entre as palavras. Sua limitação é que de acordo com que eu vou crescendo o meu n, eu vou enriquecendo semânticamente o meu texto, porém o meu vetor vai ficando cada vez maior, e vou ter que lidar com dimensionalidade, não sendo computacionalmente viável."
   ]
  },
  {
   "cell_type": "markdown",
   "metadata": {},
   "source": [
    "### **Example**"
   ]
  },
  {
   "cell_type": "code",
   "execution_count": 1,
   "metadata": {},
   "outputs": [
    {
     "name": "stdout",
     "output_type": "stream",
     "text": [
      "C has 3 texts:\n",
      "t1 = The who is the band!\n",
      "t2 = who is the band?\n",
      "t3 = The band who plays the who.\n"
     ]
    }
   ],
   "source": [
    "C = ['The who is the band!', 'who is the band?', 'The band who plays the who.']\n",
    "\n",
    "print('C has %d texts:' % len(C))\n",
    "for i in range(len(C)):\n",
    "    print(f\"t{i+1} = {C[i]}\")"
   ]
  },
  {
   "cell_type": "code",
   "execution_count": 2,
   "metadata": {},
   "outputs": [],
   "source": [
    "import re\n",
    "\n",
    "def pre_process_corpus(corpus):\n",
    "    new_corpus = [doc.lower() for doc in corpus]\n",
    "    regex = r\"(?<!\\d)[\\!\\?.,;:-](?!\\d)\"\n",
    "    return [re.sub(regex, \"\", doc, 0) for doc in new_corpus]"
   ]
  },
  {
   "cell_type": "code",
   "execution_count": 3,
   "metadata": {},
   "outputs": [
    {
     "name": "stdout",
     "output_type": "stream",
     "text": [
      "['the who is the band', 'who is the band', 'the band who plays the who']\n"
     ]
    }
   ],
   "source": [
    "import sklearn\n",
    "import pandas as pd\n",
    "import nltk\n",
    "import re\n",
    "from sklearn.feature_extraction.text import CountVectorizer\n",
    "\n",
    "corpus = pre_process_corpus(C)\n",
    "print(corpus)"
   ]
  },
  {
   "cell_type": "code",
   "execution_count": 4,
   "metadata": {},
   "outputs": [
    {
     "name": "stdout",
     "output_type": "stream",
     "text": [
      "   band who  is the  plays the  the band  the who  who is  who plays\n",
      "0         0       1          0         1        1       1          0\n",
      "1         0       1          0         1        0       1          0\n",
      "2         1       0          1         1        1       0          1\n"
     ]
    }
   ],
   "source": [
    "vectorizer = CountVectorizer(ngram_range=(2, 2)) # (1, 1) é um BoW\n",
    "doc_term_matrix = vectorizer.fit_transform(corpus)\n",
    "terms = vectorizer.get_feature_names_out()\n",
    "\n",
    "print(pd.DataFrame(doc_term_matrix.A, columns=terms).to_string())"
   ]
  }
 ],
 "metadata": {
  "kernelspec": {
   "display_name": "Python 3",
   "language": "python",
   "name": "python3"
  },
  "language_info": {
   "codemirror_mode": {
    "name": "ipython",
    "version": 3
   },
   "file_extension": ".py",
   "mimetype": "text/x-python",
   "name": "python",
   "nbconvert_exporter": "python",
   "pygments_lexer": "ipython3",
   "version": "3.10.6"
  },
  "orig_nbformat": 4
 },
 "nbformat": 4,
 "nbformat_minor": 2
}
