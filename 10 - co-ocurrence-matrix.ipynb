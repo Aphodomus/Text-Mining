{
 "cells": [
  {
   "cell_type": "markdown",
   "metadata": {},
   "source": [
    "# **Co-occurrence Matrix**\n",
    "BoW é muito simples e fácil de entender, mas tem algumas limitações. Normalmente ele ignora a correlação entre as palavras, o que deixa a semântica mais fraca. A abordagem por co occurrence tem como objetivo analisar a vizinhança das palavras, para a partir dai capturar mais semântica no texto. As linhas e as colunas são palavras do vocabulário, e cada célula vai armazenar a quantidade de vezes que duas palavras ocorreram."
   ]
  },
  {
   "cell_type": "markdown",
   "metadata": {},
   "source": [
    "### **Example**"
   ]
  },
  {
   "cell_type": "code",
   "execution_count": 1,
   "metadata": {},
   "outputs": [
    {
     "name": "stdout",
     "output_type": "stream",
     "text": [
      "C has 3 texts:\n",
      "t1 = The who is the band!\n",
      "t2 = who is the band?\n",
      "t3 = The band who plays the who.\n"
     ]
    }
   ],
   "source": [
    "C = ['The who is the band!', 'who is the band?', 'The band who plays the who.']\n",
    "\n",
    "print('C has %d texts:' % len(C))\n",
    "for i in range(len(C)):\n",
    "    print(f\"t{i+1} = {C[i]}\")"
   ]
  },
  {
   "cell_type": "code",
   "execution_count": 2,
   "metadata": {},
   "outputs": [],
   "source": [
    "import re\n",
    "\n",
    "def pre_process_corpus(corpus):\n",
    "    new_corpus = [doc.lower() for doc in corpus]\n",
    "    regex = r\"(?<!\\d)[\\!\\?.,;:-](?!\\d)\"\n",
    "    return [re.sub(regex, \"\", doc, 0) for doc in new_corpus]"
   ]
  },
  {
   "cell_type": "code",
   "execution_count": 3,
   "metadata": {},
   "outputs": [
    {
     "name": "stdout",
     "output_type": "stream",
     "text": [
      "['the who is the band', 'who is the band', 'the band who plays the who']\n"
     ]
    }
   ],
   "source": [
    "import sklearn\n",
    "import pandas as pd\n",
    "import nltk\n",
    "import re\n",
    "from sklearn.feature_extraction.text import CountVectorizer\n",
    "\n",
    "corpus = pre_process_corpus(C)\n",
    "print(corpus)"
   ]
  },
  {
   "cell_type": "code",
   "execution_count": 7,
   "metadata": {},
   "outputs": [
    {
     "name": "stdout",
     "output_type": "stream",
     "text": [
      "   band  is  plays  the  who\n",
      "0     1   1      0    2    1\n",
      "1     1   1      0    1    1\n",
      "2     1   0      1    2    2\n"
     ]
    }
   ],
   "source": [
    "vectorizer = CountVectorizer()\n",
    "doc_term_matrix = vectorizer.fit_transform(corpus)\n",
    "terms = vectorizer.get_feature_names_out()\n",
    "\n",
    "print(pd.DataFrame(doc_term_matrix.A, columns=terms).to_string())"
   ]
  },
  {
   "cell_type": "code",
   "execution_count": 5,
   "metadata": {},
   "outputs": [
    {
     "data": {
      "text/plain": [
       "{'the': 3, 'who': 4, 'is': 1, 'band': 0, 'plays': 2}"
      ]
     },
     "execution_count": 5,
     "metadata": {},
     "output_type": "execute_result"
    }
   ],
   "source": [
    "vectorizer.vocabulary_"
   ]
  },
  {
   "cell_type": "code",
   "execution_count": 11,
   "metadata": {},
   "outputs": [
    {
     "name": "stdout",
     "output_type": "stream",
     "text": [
      "[[3 2 1 5 4]\n",
      " [2 2 0 3 2]\n",
      " [1 0 1 2 2]\n",
      " [5 3 2 9 7]\n",
      " [4 2 2 7 6]]\n"
     ]
    }
   ],
   "source": [
    "co_occurrence_matrix = (doc_term_matrix.T * doc_term_matrix)\n",
    "print(co_occurrence_matrix.todense())"
   ]
  },
  {
   "cell_type": "markdown",
   "metadata": {},
   "source": [
    "Para cada palavra, eu sei quais são os seus vizinhos mais frequentes em cada coleção."
   ]
  },
  {
   "cell_type": "code",
   "execution_count": 12,
   "metadata": {},
   "outputs": [
    {
     "name": "stdout",
     "output_type": "stream",
     "text": [
      "[[1.         0.66666667 0.33333333 1.66666667 1.33333333]\n",
      " [1.         1.         0.         1.5        1.        ]\n",
      " [1.         0.         1.         2.         2.        ]\n",
      " [0.55555556 0.33333333 0.22222222 1.         0.77777778]\n",
      " [0.66666667 0.33333333 0.33333333 1.16666667 1.        ]]\n"
     ]
    }
   ],
   "source": [
    "import scipy.sparse as sp\n",
    "g = sp.diags(1./co_occurrence_matrix.diagonal())\n",
    "co_occurrence_matrix_norm = g * co_occurrence_matrix # Normalized matrix\n",
    "\n",
    "print(co_occurrence_matrix_norm.todense())"
   ]
  },
  {
   "cell_type": "markdown",
   "metadata": {},
   "source": [
    "Normalizar os valores da matriz ficando em uma escala menor."
   ]
  },
  {
   "cell_type": "code",
   "execution_count": 13,
   "metadata": {},
   "outputs": [
    {
     "name": "stdout",
     "output_type": "stream",
     "text": [
      "[[0 2 1 5 4]\n",
      " [2 0 0 3 2]\n",
      " [1 0 0 2 2]\n",
      " [5 3 2 0 7]\n",
      " [4 2 2 7 0]]\n"
     ]
    }
   ],
   "source": [
    "co_occurrence_matrix.setdiag(0)\n",
    "print(co_occurrence_matrix.todense())"
   ]
  },
  {
   "cell_type": "markdown",
   "metadata": {},
   "source": [
    "Zerar a diagonal principal, afinal não tem pq eu querer comparar uma palavra com ela mesma."
   ]
  },
  {
   "cell_type": "code",
   "execution_count": 14,
   "metadata": {},
   "outputs": [],
   "source": [
    "import numpy as np\n",
    "from collections import defaultdict\n",
    "\n",
    "def co_occurrence(sentences, window_size):\n",
    "    d = defaultdict(int)\n",
    "    vocab = set()\n",
    "    \n",
    "    for text in sentences:\n",
    "        text = text.lower().split() # preprocessing, use tokenizer instead\n",
    "        \n",
    "        for i in range(len(text)):\n",
    "            token = text[i]\n",
    "            vocab.add(token) # add to vocab\n",
    "            next_token = text[i + 1: i + 1 + window_size]\n",
    "            \n",
    "            for t in next_token:\n",
    "                key = tuple(sorted([t, token]))\n",
    "                d[key] += 1\n",
    "    \n",
    "    # formulate the dictionary into dataframe\n",
    "    vocab = sorted(vocab)\n",
    "    df = pd.DataFrame(data=np.zeros((len(vocab), len(vocab)), dtype=np.int16), index=vocab, columns=vocab)\n",
    "    \n",
    "    for key, value in d.items():\n",
    "        df.at[key[0], key[1]] = value\n",
    "        df.at[key[1], key[0]] = value\n",
    "        \n",
    "    return df"
   ]
  },
  {
   "cell_type": "code",
   "execution_count": 16,
   "metadata": {},
   "outputs": [
    {
     "data": {
      "text/html": [
       "<div>\n",
       "<style scoped>\n",
       "    .dataframe tbody tr th:only-of-type {\n",
       "        vertical-align: middle;\n",
       "    }\n",
       "\n",
       "    .dataframe tbody tr th {\n",
       "        vertical-align: top;\n",
       "    }\n",
       "\n",
       "    .dataframe thead th {\n",
       "        text-align: right;\n",
       "    }\n",
       "</style>\n",
       "<table border=\"1\" class=\"dataframe\">\n",
       "  <thead>\n",
       "    <tr style=\"text-align: right;\">\n",
       "      <th></th>\n",
       "      <th>band</th>\n",
       "      <th>is</th>\n",
       "      <th>plays</th>\n",
       "      <th>the</th>\n",
       "      <th>who</th>\n",
       "    </tr>\n",
       "  </thead>\n",
       "  <tbody>\n",
       "    <tr>\n",
       "      <th>band</th>\n",
       "      <td>0</td>\n",
       "      <td>2</td>\n",
       "      <td>1</td>\n",
       "      <td>4</td>\n",
       "      <td>3</td>\n",
       "    </tr>\n",
       "    <tr>\n",
       "      <th>is</th>\n",
       "      <td>2</td>\n",
       "      <td>0</td>\n",
       "      <td>0</td>\n",
       "      <td>3</td>\n",
       "      <td>2</td>\n",
       "    </tr>\n",
       "    <tr>\n",
       "      <th>plays</th>\n",
       "      <td>1</td>\n",
       "      <td>0</td>\n",
       "      <td>0</td>\n",
       "      <td>2</td>\n",
       "      <td>2</td>\n",
       "    </tr>\n",
       "    <tr>\n",
       "      <th>the</th>\n",
       "      <td>4</td>\n",
       "      <td>3</td>\n",
       "      <td>2</td>\n",
       "      <td>1</td>\n",
       "      <td>6</td>\n",
       "    </tr>\n",
       "    <tr>\n",
       "      <th>who</th>\n",
       "      <td>3</td>\n",
       "      <td>2</td>\n",
       "      <td>2</td>\n",
       "      <td>6</td>\n",
       "      <td>1</td>\n",
       "    </tr>\n",
       "  </tbody>\n",
       "</table>\n",
       "</div>"
      ],
      "text/plain": [
       "       band  is  plays  the  who\n",
       "band      0   2      1    4    3\n",
       "is        2   0      0    3    2\n",
       "plays     1   0      0    2    2\n",
       "the       4   3      2    1    6\n",
       "who       3   2      2    6    1"
      ]
     },
     "execution_count": 16,
     "metadata": {},
     "output_type": "execute_result"
    }
   ],
   "source": [
    "df = co_occurrence(corpus, 3)\n",
    "df"
   ]
  },
  {
   "cell_type": "markdown",
   "metadata": {},
   "source": [
    "Posso alterar o tamanho da janela para saber a qual distância ocorreu cada palavra. Quantas vezes, uma palavra apareceu distância da outra em uma distância window_size."
   ]
  }
 ],
 "metadata": {
  "kernelspec": {
   "display_name": "Python 3",
   "language": "python",
   "name": "python3"
  },
  "language_info": {
   "codemirror_mode": {
    "name": "ipython",
    "version": 3
   },
   "file_extension": ".py",
   "mimetype": "text/x-python",
   "name": "python",
   "nbconvert_exporter": "python",
   "pygments_lexer": "ipython3",
   "version": "3.10.6"
  },
  "orig_nbformat": 4
 },
 "nbformat": 4,
 "nbformat_minor": 2
}
