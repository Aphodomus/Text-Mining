{
 "cells": [
  {
   "cell_type": "markdown",
   "metadata": {},
   "source": [
    "# **Distance and Similarity (Text Similarity)**\n",
    "Similaridade é uma medida que representa o quão diferente ou parecido dois objetos são. Podemos estimar isso por meio de distância entre objetos em um espaço. Se temos um vetor, podemos calcular isso com a distância entre os elementos desse vetor.\n",
    "\n",
    "Quanto menor a distância, maior o grau de similaridade entre eles. E quanto maior a distância, menor é o grau de similaridade."
   ]
  },
  {
   "cell_type": "markdown",
   "metadata": {},
   "source": [
    "### **Example**"
   ]
  },
  {
   "cell_type": "code",
   "execution_count": 2,
   "metadata": {},
   "outputs": [
    {
     "name": "stdout",
     "output_type": "stream",
     "text": [
      "['the bottle is empty', 'there is nothing in the bottle']\n"
     ]
    }
   ],
   "source": [
    "sentences = [\"The bottle is empty\", \"There is nothing in the bottle\"]\n",
    "\n",
    "sentences = [sent.lower() for sent in sentences]\n",
    "print(sentences)"
   ]
  },
  {
   "cell_type": "code",
   "execution_count": 3,
   "metadata": {},
   "outputs": [
    {
     "name": "stdout",
     "output_type": "stream",
     "text": [
      "[['the', 'bottle', 'is', 'empty'], ['there', 'is', 'nothing', 'in', 'the', 'bottle']]\n"
     ]
    }
   ],
   "source": [
    "entries = [sent.split(\" \") for sent in sentences]\n",
    "print(entries)"
   ]
  },
  {
   "cell_type": "code",
   "execution_count": 5,
   "metadata": {},
   "outputs": [
    {
     "name": "stdout",
     "output_type": "stream",
     "text": [
      "[[0.41285857 0.69903033 0.         0.41285857 0.         0.41285857\n",
      "  0.        ]\n",
      " [0.29360705 0.         0.49711994 0.29360705 0.49711994 0.29360705\n",
      "  0.49711994]]\n"
     ]
    }
   ],
   "source": [
    "# Representação com TfIdf\n",
    "from sklearn.feature_extraction.text import TfidfVectorizer\n",
    "\n",
    "tf_idf = TfidfVectorizer(smooth_idf=False)\n",
    "\n",
    "embeddings = tf_idf.fit_transform(sentences)\n",
    "embeddings = embeddings.toarray()\n",
    "\n",
    "print(embeddings)"
   ]
  },
  {
   "cell_type": "code",
   "execution_count": 6,
   "metadata": {},
   "outputs": [
    {
     "name": "stdout",
     "output_type": "stream",
     "text": [
      "[array([ 0.23852065,  0.05907374,  0.10816707,  0.24823233, -0.3774069 ,\n",
      "        0.01665485,  0.5093222 ,  0.25659096, -0.14743195,  0.09507278,\n",
      "        0.9130205 , -0.35232985, -0.07457988,  0.5027634 , -0.7621294 ,\n",
      "       -0.10213359, -0.12908426,  0.23707768, -0.30417803,  0.59493744,\n",
      "       -0.7342875 , -0.1103975 , -0.84400094,  0.22677955, -0.21725222,\n",
      "       -0.32585216,  0.07578522,  0.42777872, -0.02692611, -0.02078284,\n",
      "        0.23705782,  0.27802056,  0.7791429 , -0.9467118 ,  0.63835967,\n",
      "       -0.2373186 ,  0.03732838, -0.1470227 , -0.27814466,  1.3972008 ,\n",
      "       -0.10186809,  0.157656  , -0.01884775,  0.12663478,  0.08430734,\n",
      "        0.23080473, -0.30113226,  0.6765717 ,  0.3373651 , -0.16288567,\n",
      "       -0.5980274 , -0.2646617 , -0.40750393, -0.19629836, -0.04057601,\n",
      "        0.42081276, -0.10046892, -0.320126  , -0.26893985,  0.16263163,\n",
      "        0.38462782, -0.2424707 , -0.33181804, -0.04805975, -0.06619203,\n",
      "        0.09014196,  0.28685102, -0.2616923 , -0.04349764, -0.6205879 ,\n",
      "        0.37902662,  0.00955138,  0.02635291,  0.22396237, -0.6497428 ,\n",
      "       -0.06350957, -0.17591581, -1.1151657 , -0.12243928, -0.32288095,\n",
      "       -0.5034333 ,  0.21332663, -0.62058616, -0.08054566,  0.34876695,\n",
      "        0.07906394, -0.04524871,  0.37615955, -0.13813496,  0.03050116,\n",
      "        0.08427763, -0.49216482,  0.575534  ,  0.49681672, -0.38593253,\n",
      "        0.02917814], dtype=float32), array([ 0.28806093, -0.09384221,  0.06001571, -0.4590149 ,  0.23211843,\n",
      "       -0.11981649,  0.36717293, -0.09364782, -0.22380774,  0.4885591 ,\n",
      "       -0.1290595 ,  0.00943222, -0.07015669,  0.2517455 , -0.27558243,\n",
      "        0.05270892, -0.05364421,  0.28975204,  0.29678297,  0.4215674 ,\n",
      "       -0.2102776 ,  0.37067416,  0.01469485, -0.47038063, -0.19284481,\n",
      "       -0.20308633, -0.20526652,  0.07124209,  0.44235477,  0.68295354,\n",
      "        0.20056196,  0.55992454,  0.61884034, -0.7580603 ,  0.3197759 ,\n",
      "       -0.3285235 ,  0.07589299,  0.26934162, -0.07606505,  0.38268185,\n",
      "       -0.01831204,  0.46941242,  0.15940218, -0.06410205,  0.20343745,\n",
      "        0.84024715, -0.6297191 ,  0.20358557, -0.00694697, -0.70653516,\n",
      "       -1.1526462 , -0.18699218,  0.06232281, -0.21296477,  0.0084475 ,\n",
      "       -0.2297293 ,  0.26862624,  0.15039922, -0.26892802, -0.24576616,\n",
      "        0.6242867 , -0.35979423, -0.14779818, -0.386734  ,  0.20725332,\n",
      "        0.35837114,  0.4417627 , -0.7268273 , -0.30207157,  0.54554176,\n",
      "        0.12481097,  0.04941244,  0.21188127,  0.06467918, -0.4062303 ,\n",
      "       -0.19501585,  0.29153767, -0.05225788, -0.18890196, -0.22577725,\n",
      "       -0.22692388,  0.0158927 , -0.05265652, -0.46009275,  0.5014792 ,\n",
      "        0.08511994, -0.03040525, -0.03369804, -0.44171008, -0.17565508,\n",
      "       -0.0647239 , -0.29744756,  0.2928976 ,  0.09067609, -0.6524174 ,\n",
      "       -0.33282998], dtype=float32)]\n"
     ]
    }
   ],
   "source": [
    "# Representação neural\n",
    "import spacy\n",
    "\n",
    "nlp = spacy.load('en_core_web_sm')\n",
    "\n",
    "embeddings = [nlp(sentence).vector for sentence in sentences]\n",
    "\n",
    "print(embeddings)"
   ]
  },
  {
   "cell_type": "markdown",
   "metadata": {},
   "source": [
    "### **Jaccard Distance**\n",
    "Basicamente computa a distância entre dois elementos representando esses elementos como conjuntos e o tamanho da interseção dividido pelo tamanho entre a união vai me dar uma medida de similaridade.\n",
    "\n",
    "<div align=\"center\" style=\"margin-top: 40px;\">\n",
    "    <img src=\"./images/image2.png\" alt=\"Alt text\" width=\"200\"/>\n",
    "</div>\n"
   ]
  },
  {
   "cell_type": "code",
   "execution_count": 28,
   "metadata": {},
   "outputs": [
    {
     "name": "stdout",
     "output_type": "stream",
     "text": [
      "['the', 'bottle', 'is', 'empty']\n"
     ]
    },
    {
     "data": {
      "text/plain": [
       "0.42857142857142855"
      ]
     },
     "execution_count": 28,
     "metadata": {},
     "output_type": "execute_result"
    }
   ],
   "source": [
    "def jaccard_similarity(x, y):\n",
    "    print(x)\n",
    "    intersection_size = len(set.intersection(*[set(x), set(y)]))\n",
    "    union_size = len(set.union(*[set(x), set(y)]))\n",
    "    return intersection_size / float(union_size)\n",
    "\n",
    "jaccard_similarity(entries[0], entries[1])"
   ]
  },
  {
   "cell_type": "markdown",
   "metadata": {},
   "source": [
    "### **Manhatthan Distance**\n",
    "É um caso especial da distância de Minkowski, onde computamos a distância entre dois pontos como a soma das diferenças absolutas entre as coordenadas cartesianas desses pontos.\n",
    "\n",
    "<div align=\"center\" style=\"margin-top: 40px;\">\n",
    "    <img src=\"./images/image3.png\" alt=\"Alt text\" width=\"300\"/>\n",
    "</div>"
   ]
  },
  {
   "cell_type": "code",
   "execution_count": 8,
   "metadata": {},
   "outputs": [
    {
     "data": {
      "text/plain": [
       "29.73493493720889"
      ]
     },
     "execution_count": 8,
     "metadata": {},
     "output_type": "execute_result"
    }
   ],
   "source": [
    "def manhattan_distance(x, y):\n",
    "    return sum(abs(a - b) for a, b in zip(x, y))\n",
    "\n",
    "distance = manhattan_distance(embeddings[0], embeddings[1])\n",
    "distance"
   ]
  },
  {
   "cell_type": "markdown",
   "metadata": {},
   "source": [
    "### **Euclidean Distance**\n",
    "Também chamada de L2 Distance, ou L2 Norm, é um pouco diferente da manhatthan, pois eu elevo a minha diferença ao quadrado e tiro a raiz do resultado.\n",
    "\n",
    "<div align=\"center\" style=\"margin-top: 40px;\">\n",
    "    <img src=\"./images/image4.png\" alt=\"Alt text\" width=\"300\"/>\n",
    "</div>"
   ]
  },
  {
   "cell_type": "code",
   "execution_count": 12,
   "metadata": {},
   "outputs": [
    {
     "data": {
      "text/plain": [
       "3.8894333715879372"
      ]
     },
     "execution_count": 12,
     "metadata": {},
     "output_type": "execute_result"
    }
   ],
   "source": [
    "from math import sqrt, pow, exp\n",
    "\n",
    "def euclidean_distance(x, y):\n",
    "    return sqrt(sum(pow(abs(a - b), 2) for a, b in zip(x, y)))\n",
    "\n",
    "distance = euclidean_distance(embeddings[0], embeddings[1])\n",
    "distance"
   ]
  },
  {
   "cell_type": "markdown",
   "metadata": {},
   "source": [
    "### **Distance to Similarity**\n",
    "Convertendo o valor de distância para similaridade."
   ]
  },
  {
   "cell_type": "code",
   "execution_count": 13,
   "metadata": {},
   "outputs": [
    {
     "data": {
      "text/plain": [
       "0.020456934234687918"
      ]
     },
     "execution_count": 13,
     "metadata": {},
     "output_type": "execute_result"
    }
   ],
   "source": [
    "# Calculando a similaridade\n",
    "def distance_to_similarity(distance):\n",
    "    return 1/exp(distance)\n",
    "\n",
    "distance_to_similarity(distance)"
   ]
  },
  {
   "cell_type": "markdown",
   "metadata": {},
   "source": [
    "### **Minkowski Distance**\n",
    "É uma distância generalizada, onde temos um valor P onde o usuário vai definir.\n",
    "\n",
    "<div align=\"center\" style=\"margin-top: 40px;\">\n",
    "    <img src=\"./images/image5.png\" alt=\"Alt text\" width=\"300\"/>\n",
    "</div>"
   ]
  },
  {
   "cell_type": "code",
   "execution_count": 20,
   "metadata": {},
   "outputs": [
    {
     "name": "stdout",
     "output_type": "stream",
     "text": [
      "2.173\n"
     ]
    }
   ],
   "source": [
    "from math import *\n",
    "from decimal import Decimal\n",
    "\n",
    "def nth_root(value, n_root):\n",
    "    root_value = 1/float(n_root)\n",
    "    return round(Decimal(value) ** Decimal(root_value), 3)\n",
    "\n",
    "def minkowski_distance(x, y, p):\n",
    "    return nth_root(sum(pow(abs(a - b), p) for a, b in zip(x, y)), p)\n",
    "\n",
    "distance = minkowski_distance(embeddings[0], embeddings[1], 3)\n",
    "print(distance)"
   ]
  },
  {
   "cell_type": "code",
   "execution_count": 21,
   "metadata": {},
   "outputs": [
    {
     "data": {
      "text/plain": [
       "0.11383559734596592"
      ]
     },
     "execution_count": 21,
     "metadata": {},
     "output_type": "execute_result"
    }
   ],
   "source": [
    "distance_to_similarity(distance)"
   ]
  },
  {
   "cell_type": "markdown",
   "metadata": {},
   "source": [
    "### **Cosine Similarity**\n",
    "A partir da representação vetorial dos meus textos, eu posso calcular o cosseno entre o ângulo desses dois vetores, e o cosseno desse ângulo vai me dar o quão coincidente ou ortogonal esses vetores são, e consequentemente uma medida de distância. Se os vetores são coincidentes, se o ângulo entre eles é muito pequeno entre eles, é um sinal que são quase coincidentes, são muito similares. Se o ângulo entre eles é muito ortogonal, é um sinal que são vetores muito diferentes entre si, são textos bem diferentes."
   ]
  },
  {
   "cell_type": "code",
   "execution_count": 22,
   "metadata": {},
   "outputs": [
    {
     "data": {
      "text/plain": [
       "0.448"
      ]
     },
     "execution_count": 22,
     "metadata": {},
     "output_type": "execute_result"
    }
   ],
   "source": [
    "def square_rooted(x):\n",
    "    return round(sqrt(sum([a * a for a in x])), 3)\n",
    "\n",
    "def cosine_similarity(x, y):\n",
    "    numerator = sum(a * b for a, b in zip(x, y))\n",
    "    denominator = square_rooted(x) * square_rooted(y)\n",
    "    return round(numerator / float(denominator), 3)\n",
    "\n",
    "distance = cosine_similarity(embeddings[0], embeddings[1])\n",
    "distance"
   ]
  },
  {
   "cell_type": "code",
   "execution_count": 23,
   "metadata": {},
   "outputs": [
    {
     "data": {
      "text/plain": [
       "0.6389046840319162"
      ]
     },
     "execution_count": 23,
     "metadata": {},
     "output_type": "execute_result"
    }
   ],
   "source": [
    "distance_to_similarity(distance)"
   ]
  }
 ],
 "metadata": {
  "kernelspec": {
   "display_name": "Python 3",
   "language": "python",
   "name": "python3"
  },
  "language_info": {
   "codemirror_mode": {
    "name": "ipython",
    "version": 3
   },
   "file_extension": ".py",
   "mimetype": "text/x-python",
   "name": "python",
   "nbconvert_exporter": "python",
   "pygments_lexer": "ipython3",
   "version": "3.10.6"
  }
 },
 "nbformat": 4,
 "nbformat_minor": 2
}
