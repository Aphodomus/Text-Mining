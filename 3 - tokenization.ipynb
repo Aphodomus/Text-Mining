{
 "cells": [
  {
   "cell_type": "markdown",
   "metadata": {},
   "source": [
    "# **Text Tokenization**\n",
    "É um processo de quebrar o texto em partes (chunks) de elementos discrétos (tokens). Também é um subproblema de segmentação de texto, posso segmentar o texto em tokens ou outros componentes maior ou menor. Por exemplo, segmentação formológica que é transformar em morfemas, palavras menores.\n",
    "\n",
    "Posso tokenizat o texto em pequenos chunks como palavras, termos, sentenças, símbolos e etc."
   ]
  },
  {
   "cell_type": "markdown",
   "metadata": {},
   "source": [
    "### **Example**"
   ]
  },
  {
   "cell_type": "code",
   "execution_count": 1,
   "metadata": {},
   "outputs": [
    {
     "data": {
      "text/plain": [
       "'its true ms martha topfer black are you arguing that $5.00 on 3/21/2023 in cash for an icecream and a black coffe in the us market is an absurd truth'"
      ]
     },
     "execution_count": 1,
     "metadata": {},
     "output_type": "execute_result"
    }
   ],
   "source": [
    "text_normalized = 'its true ms martha topfer black are you arguing that $5.00 on 3/21/2023 in cash for an icecream and a black coffe in the us market is an absurd truth'\n",
    "text_normalized"
   ]
  },
  {
   "cell_type": "markdown",
   "metadata": {},
   "source": [
    "### **White Space Tokenization**"
   ]
  },
  {
   "cell_type": "code",
   "execution_count": 2,
   "metadata": {},
   "outputs": [
    {
     "data": {
      "text/plain": [
       "['its',\n",
       " 'true',\n",
       " 'ms',\n",
       " 'martha',\n",
       " 'topfer',\n",
       " 'black',\n",
       " 'are',\n",
       " 'you',\n",
       " 'arguing',\n",
       " 'that',\n",
       " '$5.00',\n",
       " 'on',\n",
       " '3/21/2023',\n",
       " 'in',\n",
       " 'cash',\n",
       " 'for',\n",
       " 'an',\n",
       " 'icecream',\n",
       " 'and',\n",
       " 'a',\n",
       " 'black',\n",
       " 'coffe',\n",
       " 'in',\n",
       " 'the',\n",
       " 'us',\n",
       " 'market',\n",
       " 'is',\n",
       " 'an',\n",
       " 'absurd',\n",
       " 'truth']"
      ]
     },
     "execution_count": 2,
     "metadata": {},
     "output_type": "execute_result"
    }
   ],
   "source": [
    "text_tokenized = text_normalized.split()\n",
    "text_tokenized"
   ]
  },
  {
   "cell_type": "markdown",
   "metadata": {},
   "source": [
    "### **Word Tokenizer**"
   ]
  },
  {
   "cell_type": "code",
   "execution_count": 4,
   "metadata": {},
   "outputs": [
    {
     "name": "stderr",
     "output_type": "stream",
     "text": [
      "[nltk_data] Downloading package punkt to\n",
      "[nltk_data]     C:\\Users\\Daniel\\AppData\\Roaming\\nltk_data...\n",
      "[nltk_data]   Package punkt is already up-to-date!\n"
     ]
    },
    {
     "data": {
      "text/plain": [
       "['its',\n",
       " 'true',\n",
       " 'ms',\n",
       " 'martha',\n",
       " 'topfer',\n",
       " 'black',\n",
       " 'are',\n",
       " 'you',\n",
       " 'arguing',\n",
       " 'that',\n",
       " '$',\n",
       " '5.00',\n",
       " 'on',\n",
       " '3/21/2023',\n",
       " 'in',\n",
       " 'cash',\n",
       " 'for',\n",
       " 'an',\n",
       " 'icecream',\n",
       " 'and',\n",
       " 'a',\n",
       " 'black',\n",
       " 'coffe',\n",
       " 'in',\n",
       " 'the',\n",
       " 'us',\n",
       " 'market',\n",
       " 'is',\n",
       " 'an',\n",
       " 'absurd',\n",
       " 'truth']"
      ]
     },
     "execution_count": 4,
     "metadata": {},
     "output_type": "execute_result"
    }
   ],
   "source": [
    "import nltk\n",
    "nltk.download('punkt')\n",
    "import nltk.tokenize as tokenizer\n",
    "\n",
    "text_tokenized = tokenizer.word_tokenize(text_normalized)\n",
    "text_tokenized"
   ]
  },
  {
   "cell_type": "markdown",
   "metadata": {},
   "source": [
    "### **Penn TreeBank Tokenization**"
   ]
  },
  {
   "cell_type": "code",
   "execution_count": 5,
   "metadata": {},
   "outputs": [
    {
     "data": {
      "text/plain": [
       "['its',\n",
       " 'true',\n",
       " 'ms',\n",
       " 'martha',\n",
       " 'topfer',\n",
       " 'black',\n",
       " 'are',\n",
       " 'you',\n",
       " 'arguing',\n",
       " 'that',\n",
       " '$',\n",
       " '5.00',\n",
       " 'on',\n",
       " '3/21/2023',\n",
       " 'in',\n",
       " 'cash',\n",
       " 'for',\n",
       " 'an',\n",
       " 'icecream',\n",
       " 'and',\n",
       " 'a',\n",
       " 'black',\n",
       " 'coffe',\n",
       " 'in',\n",
       " 'the',\n",
       " 'us',\n",
       " 'market',\n",
       " 'is',\n",
       " 'an',\n",
       " 'absurd',\n",
       " 'truth']"
      ]
     },
     "execution_count": 5,
     "metadata": {},
     "output_type": "execute_result"
    }
   ],
   "source": [
    "text_tokenized = tokenizer.TreebankWordTokenizer().tokenize(text_normalized)\n",
    "text_tokenized"
   ]
  },
  {
   "cell_type": "markdown",
   "metadata": {},
   "source": [
    "### **Tweet Tokenizer**"
   ]
  },
  {
   "cell_type": "code",
   "execution_count": 6,
   "metadata": {},
   "outputs": [
    {
     "data": {
      "text/plain": [
       "['its',\n",
       " 'true',\n",
       " 'ms',\n",
       " 'martha',\n",
       " 'topfer',\n",
       " 'black',\n",
       " 'are',\n",
       " 'you',\n",
       " 'arguing',\n",
       " 'that',\n",
       " '$',\n",
       " '5.00',\n",
       " 'on',\n",
       " '3/21',\n",
       " '/',\n",
       " '2023',\n",
       " 'in',\n",
       " 'cash',\n",
       " 'for',\n",
       " 'an',\n",
       " 'icecream',\n",
       " 'and',\n",
       " 'a',\n",
       " 'black',\n",
       " 'coffe',\n",
       " 'in',\n",
       " 'the',\n",
       " 'us',\n",
       " 'market',\n",
       " 'is',\n",
       " 'an',\n",
       " 'absurd',\n",
       " 'truth']"
      ]
     },
     "execution_count": 6,
     "metadata": {},
     "output_type": "execute_result"
    }
   ],
   "source": [
    "text_tokenized = tokenizer.TweetTokenizer().tokenize(text_normalized)\n",
    "text_tokenized"
   ]
  }
 ],
 "metadata": {
  "kernelspec": {
   "display_name": "Python 3",
   "language": "python",
   "name": "python3"
  },
  "language_info": {
   "codemirror_mode": {
    "name": "ipython",
    "version": 3
   },
   "file_extension": ".py",
   "mimetype": "text/x-python",
   "name": "python",
   "nbconvert_exporter": "python",
   "pygments_lexer": "ipython3",
   "version": "3.10.6"
  },
  "orig_nbformat": 4
 },
 "nbformat": 4,
 "nbformat_minor": 2
}
