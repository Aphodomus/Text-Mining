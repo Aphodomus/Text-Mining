{
 "cells": [
  {
   "cell_type": "markdown",
   "metadata": {},
   "source": [
    "# **Text Normalization**\n",
    "É um processo de fazer uma transformação do texto para uma forma padronizada, uma forma canônica, a combinação de palavras fica mais fácil e as diferenças superviciais desaparecem. Normalizar um texto tem várias operações básicas, como redução para caixa baixa, remoção de acentos, e caracteres especiais, moeda, data, hífem e etc.\n",
    "\n",
    "Em resumo, é transformar texto em uma forma canônica singular simples. A vantagem é o matching de palavras, mas a desvantagem é que o texto perde semântica."
   ]
  },
  {
   "cell_type": "markdown",
   "metadata": {},
   "source": [
    "### **Example**"
   ]
  },
  {
   "cell_type": "code",
   "execution_count": 5,
   "metadata": {},
   "outputs": [
    {
     "data": {
      "text/plain": [
       "\"It's true, Ms. Martha Tôpfer black! Are you arguing that $5.00 on 3/21/2023 in cash for an ice-cream and a black coffe in the U.S. market is an absurd? :-( #Truth\""
      ]
     },
     "execution_count": 5,
     "metadata": {},
     "output_type": "execute_result"
    }
   ],
   "source": [
    "text = \"It's true, Ms. Martha Tôpfer black! Are you arguing that $5.00 on 3/21/2023 in cash for an ice-cream and a black coffe in the U.S. market is an absurd? :-( #Truth\"\n",
    "text"
   ]
  },
  {
   "cell_type": "markdown",
   "metadata": {},
   "source": [
    "### **Lowercase Reduction**\n",
    "Toda transformação textual tem benefícios, como processamento eficiente e facilidade no text matching, mas também tem desvantagens, como imprecisão semântica em alguns casos.\n"
   ]
  },
  {
   "cell_type": "code",
   "execution_count": 14,
   "metadata": {},
   "outputs": [
    {
     "data": {
      "text/plain": [
       "\"it's true, ms. martha tôpfer black! are you arguing that $5.00 on 3/21/2023 in cash for an ice-cream and a black coffe in the u.s. market is an absurd? :-( #truth\""
      ]
     },
     "execution_count": 14,
     "metadata": {},
     "output_type": "execute_result"
    }
   ],
   "source": [
    "lower_text = text.lower()\n",
    "lower_text"
   ]
  },
  {
   "cell_type": "markdown",
   "metadata": {},
   "source": [
    "Observe que o sobrenome Black do Martha agora não tem diferença em relação ao \"black coffe\". Esse é um dos exemplos da imprecisão semântica "
   ]
  },
  {
   "cell_type": "markdown",
   "metadata": {},
   "source": [
    "### **Acronym Canonicalization**"
   ]
  },
  {
   "cell_type": "code",
   "execution_count": 15,
   "metadata": {},
   "outputs": [
    {
     "data": {
      "text/plain": [
       "\"it's true, ms martha tôpfer black! are you arguing that $5.00 on 3/21/2023 in cash for an ice-cream and a black coffe in the us market is an absurd? :-( #truth\""
      ]
     },
     "execution_count": 15,
     "metadata": {},
     "output_type": "execute_result"
    }
   ],
   "source": [
    "import re\n",
    "\n",
    "text_acronym = re.sub('\\.(?!(\\S[^. ])|\\d)', '', lower_text) # acronym normalization\n",
    "text_acronym"
   ]
  },
  {
   "cell_type": "markdown",
   "metadata": {},
   "source": [
    "### **Special Character Removal**"
   ]
  },
  {
   "cell_type": "code",
   "execution_count": 16,
   "metadata": {},
   "outputs": [
    {
     "data": {
      "text/plain": [
       "'its true ms martha tôpfer black are you arguing that $5.00 on 3/21/2023 in cash for an icecream and a black coffe in the us market is an absurd truth'"
      ]
     },
     "execution_count": 16,
     "metadata": {},
     "output_type": "execute_result"
    }
   ],
   "source": [
    "import re\n",
    "\n",
    "text_acronym = re.sub('(?<!\\d)[.,:!?\\'\\(\\)#:-](?!\\d)', '', text_acronym) # special character removal\n",
    "text_acronym = re.sub(' +', ' ', text_acronym) # extra spaces removal\n",
    "text_acronym"
   ]
  },
  {
   "cell_type": "markdown",
   "metadata": {},
   "source": [
    "### **Accent and Diacritic Removal**"
   ]
  },
  {
   "cell_type": "code",
   "execution_count": 19,
   "metadata": {},
   "outputs": [
    {
     "data": {
      "text/plain": [
       "'its true ms martha topfer black are you arguing that $5.00 on 3/21/2023 in cash for an icecream and a black coffe in the us market is an absurd truth'"
      ]
     },
     "execution_count": 19,
     "metadata": {},
     "output_type": "execute_result"
    }
   ],
   "source": [
    "import unicodedata\n",
    "\n",
    "def remove_accents(string):\n",
    "    nfkd_form = unicodedata.normalize('NFKD', string)\n",
    "    return u\"\".join([c for c in nfkd_form if not unicodedata.combining(c)])\n",
    "\n",
    "ascii_text = remove_accents(text_acronym)\n",
    "ascii_text"
   ]
  }
 ],
 "metadata": {
  "kernelspec": {
   "display_name": "Python 3",
   "language": "python",
   "name": "python3"
  },
  "language_info": {
   "codemirror_mode": {
    "name": "ipython",
    "version": 3
   },
   "file_extension": ".py",
   "mimetype": "text/x-python",
   "name": "python",
   "nbconvert_exporter": "python",
   "pygments_lexer": "ipython3",
   "version": "3.10.6"
  },
  "orig_nbformat": 4
 },
 "nbformat": 4,
 "nbformat_minor": 2
}
