{
 "cells": [
  {
   "cell_type": "markdown",
   "metadata": {},
   "source": [
    "# **Stemming**\n",
    "É o processo de reduzir palavras flexinadas para um radical, uma forma mais básica da palavra. Diferente da lemmarização, não temos obrigação de transformar uma palavra na sua raiz. É um processo mais barato e rápido, além de permitir o matching mais facilmente. Sua desvantagem é que o radical pode não fazer sentidona linguagem."
   ]
  },
  {
   "cell_type": "markdown",
   "metadata": {},
   "source": [
    "### **Example**"
   ]
  },
  {
   "cell_type": "code",
   "execution_count": 1,
   "metadata": {},
   "outputs": [
    {
     "data": {
      "text/plain": [
       "'its true ms martha topfer black are you arguing that $5.00 on 3/21/2023 in cash for an icecream and a black coffe in the us market is an absurd truth'"
      ]
     },
     "execution_count": 1,
     "metadata": {},
     "output_type": "execute_result"
    }
   ],
   "source": [
    "text_normalized = 'its true ms martha topfer black are you arguing that $5.00 on 3/21/2023 in cash for an icecream and a black coffe in the us market is an absurd truth'\n",
    "text_normalized"
   ]
  },
  {
   "cell_type": "markdown",
   "metadata": {},
   "source": [
    "### **White Space Tokenization**"
   ]
  },
  {
   "cell_type": "code",
   "execution_count": 2,
   "metadata": {},
   "outputs": [
    {
     "data": {
      "text/plain": [
       "['its',\n",
       " 'true',\n",
       " 'ms',\n",
       " 'martha',\n",
       " 'topfer',\n",
       " 'black',\n",
       " 'are',\n",
       " 'you',\n",
       " 'arguing',\n",
       " 'that',\n",
       " '$5.00',\n",
       " 'on',\n",
       " '3/21/2023',\n",
       " 'in',\n",
       " 'cash',\n",
       " 'for',\n",
       " 'an',\n",
       " 'icecream',\n",
       " 'and',\n",
       " 'a',\n",
       " 'black',\n",
       " 'coffe',\n",
       " 'in',\n",
       " 'the',\n",
       " 'us',\n",
       " 'market',\n",
       " 'is',\n",
       " 'an',\n",
       " 'absurd',\n",
       " 'truth']"
      ]
     },
     "execution_count": 2,
     "metadata": {},
     "output_type": "execute_result"
    }
   ],
   "source": [
    "text_tokenized = text_normalized.split()\n",
    "text_tokenized"
   ]
  },
  {
   "cell_type": "markdown",
   "metadata": {},
   "source": [
    "### **Stop Words Removal**"
   ]
  },
  {
   "cell_type": "code",
   "execution_count": 3,
   "metadata": {},
   "outputs": [
    {
     "name": "stderr",
     "output_type": "stream",
     "text": [
      "[nltk_data] Downloading package stopwords to\n",
      "[nltk_data]     C:\\Users\\Daniel\\AppData\\Roaming\\nltk_data...\n",
      "[nltk_data]   Package stopwords is already up-to-date!\n"
     ]
    },
    {
     "data": {
      "text/plain": [
       "['true',\n",
       " 'ms',\n",
       " 'martha',\n",
       " 'topfer',\n",
       " 'black',\n",
       " 'arguing',\n",
       " '$5.00',\n",
       " '3/21/2023',\n",
       " 'cash',\n",
       " 'icecream',\n",
       " 'black',\n",
       " 'coffe',\n",
       " 'us',\n",
       " 'market',\n",
       " 'absurd',\n",
       " 'truth']"
      ]
     },
     "execution_count": 3,
     "metadata": {},
     "output_type": "execute_result"
    }
   ],
   "source": [
    "import nltk\n",
    "from nltk.corpus import stopwords\n",
    "nltk.download('stopwords')\n",
    "\n",
    "stopwords = stopwords.words('english')\n",
    "\n",
    "no_stopwords_text = [word for word in text_tokenized if word not in stopwords]\n",
    "no_stopwords_text"
   ]
  },
  {
   "cell_type": "markdown",
   "metadata": {},
   "source": [
    "### **Porter Stemmer**"
   ]
  },
  {
   "cell_type": "code",
   "execution_count": 4,
   "metadata": {},
   "outputs": [
    {
     "data": {
      "text/plain": [
       "['true',\n",
       " 'ms',\n",
       " 'martha',\n",
       " 'topfer',\n",
       " 'black',\n",
       " 'argu',\n",
       " '$5.00',\n",
       " '3/21/2023',\n",
       " 'cash',\n",
       " 'icecream',\n",
       " 'black',\n",
       " 'coff',\n",
       " 'us',\n",
       " 'market',\n",
       " 'absurd',\n",
       " 'truth']"
      ]
     },
     "execution_count": 4,
     "metadata": {},
     "output_type": "execute_result"
    }
   ],
   "source": [
    "from nltk.stem.porter import PorterStemmer\n",
    "\n",
    "stemmer = PorterStemmer()\n",
    "\n",
    "stemmed_text = [stemmer.stem(word) for word in no_stopwords_text]\n",
    "\n",
    "stemmed_text"
   ]
  },
  {
   "cell_type": "markdown",
   "metadata": {},
   "source": [
    "### **Snowball Stemmer**"
   ]
  },
  {
   "cell_type": "code",
   "execution_count": 6,
   "metadata": {},
   "outputs": [
    {
     "data": {
      "text/plain": [
       "['true',\n",
       " 'ms',\n",
       " 'martha',\n",
       " 'topfer',\n",
       " 'black',\n",
       " 'argu',\n",
       " '$5.00',\n",
       " '3/21/2023',\n",
       " 'cash',\n",
       " 'icecream',\n",
       " 'black',\n",
       " 'coff',\n",
       " 'us',\n",
       " 'market',\n",
       " 'absurd',\n",
       " 'truth']"
      ]
     },
     "execution_count": 6,
     "metadata": {},
     "output_type": "execute_result"
    }
   ],
   "source": [
    "from nltk.stem.snowball import SnowballStemmer\n",
    "\n",
    "stemmer = SnowballStemmer('english')\n",
    "\n",
    "stemmed_text = [stemmer.stem(word) for word in no_stopwords_text]\n",
    "\n",
    "stemmed_text"
   ]
  }
 ],
 "metadata": {
  "kernelspec": {
   "display_name": "Python 3",
   "language": "python",
   "name": "python3"
  },
  "language_info": {
   "codemirror_mode": {
    "name": "ipython",
    "version": 3
   },
   "file_extension": ".py",
   "mimetype": "text/x-python",
   "name": "python",
   "nbconvert_exporter": "python",
   "pygments_lexer": "ipython3",
   "version": "3.10.6"
  },
  "orig_nbformat": 4
 },
 "nbformat": 4,
 "nbformat_minor": 2
}
