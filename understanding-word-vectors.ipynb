{
 "cells": [
  {
   "cell_type": "markdown",
   "metadata": {},
   "source": [
    "# Understanding word vectors"
   ]
  },
  {
   "cell_type": "markdown",
   "metadata": {},
   "source": [
    "... for, like, actual poets. By [Allison Parrish](http://www.decontextualize.com/)\n",
    "\n",
    "In this tutorial, I'm going to show you how word vectors work. This tutorial assumes a good amount of Python knowledge, but even if you're not a Python expert, you should be able to follow along and make small changes to the examples without too much trouble.\n",
    "\n",
    "This is a \"[Jupyter Notebook](https://jupyter-notebook-beginner-guide.readthedocs.io/en/latest/),\" which consists of text and \"cells\" of code. After you've loaded the notebook, you can execute the code in a cell by highlighting it and hitting Ctrl+Enter. In general, you need to execute the cells from top to bottom, but you can usually run a cell more than once without messing anything up. Experiment!\n",
    "\n",
    "If things start acting strange, you can interrupt the Python process by selecting \"Kernel > Interrupt\"—this tells Python to stop doing whatever it was doing. Select \"Kernel > Restart\" to clear all of your variables and start from scratch.\n",
    "\n",
    "## Why word vectors?\n",
    "\n",
    "Poetry is, at its core, the art of identifying and manipulating linguistic similarity. I have discovered a truly marvelous proof of this, which this notebook is too narrow to contain. (By which I mean: I will elaborate on this some other time)"
   ]
  },
  {
   "cell_type": "markdown",
   "metadata": {},
   "source": [
    "## Animal similarity and simple linear algebra\n",
    "\n",
    "We'll begin by considering a small subset of English: words for animals. Our task is to be able to write computer programs to find similarities among these words and the creatures they designate. To do this, we might start by making a spreadsheet of some animals and their characteristics. For example:\n",
    "\n",
    "![Animal spreadsheet](http://static.decontextualize.com/snaps/animal-spreadsheet.png)\n",
    "\n",
    "This spreadsheet associates a handful of animals with two numbers: their cuteness and their size, both in a range from zero to one hundred. (The values themselves are simply based on my own judgment. Your taste in cuteness and evaluation of size may differ significantly from mine. As with all data, these data are simply a mirror reflection of the person who collected them.)\n",
    "\n",
    "These values give us everything we need to make determinations about which animals are similar (at least, similar in the properties that we've included in the data). Try to answer the following question: Which animal is most similar to a capybara? You could go through the values one by one and do the math to make that evaluation, but visualizing the data as points in 2-dimensional space makes finding the answer very intuitive:\n",
    "\n",
    "![Animal space](http://static.decontextualize.com/snaps/animal-space.png)\n",
    "\n",
    "The plot shows us that the closest animal to the capybara is the panda bear (again, in terms of its subjective size and cuteness). One way of calculating how \"far apart\" two points are is to find their *Euclidean distance*. (This is simply the length of the line that connects the two points.) For points in two dimensions, Euclidean distance can be calculated with the following Python function:"
   ]
  },
  {
   "cell_type": "code",
   "execution_count": 2,
   "metadata": {},
   "outputs": [],
   "source": [
    "import math\n",
    "def distance2d(x1, y1, x2, y2):\n",
    "    return math.sqrt((x1 - x2)**2 + (y1 - y2)**2)"
   ]
  },
  {
   "cell_type": "markdown",
   "metadata": {},
   "source": [
    "(The `**` operator raises the value on its left to the power on its right.)\n",
    "\n",
    "So, the distance between \"capybara\" (70, 30) and \"panda\" (74, 40):"
   ]
  },
  {
   "cell_type": "code",
   "execution_count": 3,
   "metadata": {},
   "outputs": [
    {
     "data": {
      "text/plain": [
       "11.180339887498949"
      ]
     },
     "execution_count": 3,
     "metadata": {},
     "output_type": "execute_result"
    }
   ],
   "source": [
    "distance2d(70, 30, 75, 40) # panda and capybara"
   ]
  },
  {
   "cell_type": "markdown",
   "metadata": {},
   "source": [
    "... is less than the distance between \"tarantula\" and \"elephant\":"
   ]
  },
  {
   "cell_type": "code",
   "execution_count": 4,
   "metadata": {},
   "outputs": [
    {
     "data": {
      "text/plain": [
       "104.0096149401583"
      ]
     },
     "execution_count": 4,
     "metadata": {},
     "output_type": "execute_result"
    }
   ],
   "source": [
    "distance2d(8, 3, 65, 90) # tarantula and elephant"
   ]
  },
  {
   "cell_type": "markdown",
   "metadata": {},
   "source": [
    "Modeling animals in this way has a few other interesting properties. For example, you can pick an arbitrary point in \"animal space\" and then find the animal closest to that point. If you imagine an animal of size 25 and cuteness 30, you can easily look at the space to find the animal that most closely fits that description: the chicken.\n",
    "\n",
    "Reasoning visually, you can also answer questions like: what's halfway between a chicken and an elephant? Simply draw a line from \"elephant\" to \"chicken,\" mark off the midpoint and find the closest animal. (According to our chart, halfway between an elephant and a chicken is a horse.)\n",
    "\n",
    "You can also ask: what's the *difference* between a hamster and a tarantula? According to our plot, it's about seventy five units of cute (and a few units of size).\n",
    "\n",
    "The relationship of \"difference\" is an interesting one, because it allows us to reason about *analogous* relationships. In the chart below, I've drawn an arrow from \"tarantula\" to \"hamster\" (in blue):\n",
    "\n",
    "![Animal analogy](http://static.decontextualize.com/snaps/animal-space-analogy.png)\n",
    "\n",
    "You can understand this arrow as being the *relationship* between a tarantula and a hamster, in terms of their size and cuteness (i.e., hamsters and tarantulas are about the same size, but hamsters are much cuter). In the same diagram, I've also transposed this same arrow (this time in red) so that its origin point is \"chicken.\" The arrow ends closest to \"kitten.\" What we've discovered is that the animal that is about the same size as a chicken but much cuter is... a kitten. To put it in terms of an analogy:\n",
    "\n",
    "    Tarantulas are to hamsters as chickens are to kittens.\n",
    "    \n",
    "A sequence of numbers used to identify a point is called a *vector*, and the kind of math we've been doing so far is called *linear algebra.* (Linear algebra is surprisingly useful across many domains: It's the same kind of math you might do to, e.g., simulate the velocity and acceleration of a sprite in a video game.)\n",
    "\n",
    "A set of vectors that are all part of the same data set is often called a *vector space*. The vector space of animals in this section has two *dimensions*, by which I mean that each vector in the space has two numbers associated with it (i.e., two columns in the spreadsheet). The fact that this space has two dimensions just happens to make it easy to *visualize* the space by drawing a 2D plot. But most vector spaces you'll work with will have more than two dimensions—sometimes many hundreds. In those cases, it's more difficult to visualize the \"space,\" but the math works pretty much the same."
   ]
  },
  {
   "cell_type": "markdown",
   "metadata": {},
   "source": [
    "## Language with vectors: colors\n",
    "\n",
    "So far, so good. We have a system in place—albeit highly subjective—for talking about animals and the words used to name them. I want to talk about another vector space that has to do with language: the vector space of colors.\n",
    "\n",
    "Colors are often represented in computers as vectors with three dimensions: red, green, and blue. Just as with the animals in the previous section, we can use these vectors to answer questions like: which colors are similar? What's the most likely color name for an arbitrarily chosen set of values for red, green and blue? Given the names of two colors, what's the name of those colors' \"average\"?\n",
    "\n",
    "We'll be working with this [color data](https://github.com/dariusk/corpora/blob/master/data/colors/xkcd.json) from the [xkcd color survey](https://blog.xkcd.com/2010/05/03/color-survey-results/). The data relates a color name to the RGB value associated with that color. [Here's a page that shows what the colors look like](https://xkcd.com/color/rgb/). Download the color data and put it in the same directory as this notebook.\n",
    "\n",
    "A few notes before we proceed:\n",
    "\n",
    "* The linear algebra functions implemented below (`addv`, `meanv`, etc.) are slow, potentially inaccurate, and shouldn't be used for \"real\" code—I wrote them so beginner programmers can understand how these kinds of functions work behind the scenes. Use [numpy](http://www.numpy.org/) for fast and accurate math in Python.\n",
    "* If you're interested in perceptually accurate color math in Python, consider using the [colormath library](http://python-colormath.readthedocs.io/en/latest/).\n",
    "\n",
    "Now, import the `json` library and load the color data:"
   ]
  },
  {
   "cell_type": "code",
   "execution_count": 5,
   "metadata": {
    "collapsed": true
   },
   "outputs": [],
   "source": [
    "import json"
   ]
  },
  {
   "cell_type": "code",
   "execution_count": 8,
   "metadata": {
    "collapsed": true
   },
   "outputs": [],
   "source": [
    "color_data = json.loads(open(\"./datasets/xkcd.json\").read())"
   ]
  },
  {
   "cell_type": "markdown",
   "metadata": {},
   "source": [
    "The following function converts colors from hex format (`#1a2b3c`) to a tuple of integers:"
   ]
  },
  {
   "cell_type": "code",
   "execution_count": 9,
   "metadata": {
    "collapsed": true
   },
   "outputs": [],
   "source": [
    "def hex_to_int(s):\n",
    "    s = s.lstrip(\"#\")\n",
    "    return int(s[:2], 16), int(s[2:4], 16), int(s[4:6], 16)"
   ]
  },
  {
   "cell_type": "markdown",
   "metadata": {},
   "source": [
    "And the following cell creates a dictionary and populates it with mappings from color names to RGB vectors for each color in the data:"
   ]
  },
  {
   "cell_type": "code",
   "execution_count": 10,
   "metadata": {},
   "outputs": [],
   "source": [
    "colors = dict()\n",
    "for item in color_data['colors']:\n",
    "    colors[item[\"color\"]] = hex_to_int(item[\"hex\"])"
   ]
  },
  {
   "cell_type": "code",
   "execution_count": 28,
   "metadata": {},
   "outputs": [
    {
     "data": {
      "text/plain": [
       "{'darker blue': (1, 18, 136),\n",
       " 'darker green': (8, 120, 4),\n",
       " 'green again': (22, 212, 63),\n",
       " 'darker purple': (95, 27, 107),\n",
       " 'darker pink': (196, 56, 127),\n",
       " 'cloudy blue': (172, 194, 217),\n",
       " 'dark pastel green': (86, 174, 87),\n",
       " 'dust': (178, 153, 110),\n",
       " 'electric lime': (168, 255, 4),\n",
       " 'fresh green': (105, 216, 79),\n",
       " 'light eggplant': (137, 69, 133),\n",
       " 'nasty green': (112, 178, 63),\n",
       " 'really light blue': (212, 255, 255),\n",
       " 'tea': (101, 171, 124),\n",
       " 'warm purple': (149, 46, 143),\n",
       " 'yellowish tan': (252, 252, 129),\n",
       " 'cement': (165, 163, 145),\n",
       " 'dark grass green': (56, 128, 4),\n",
       " 'dusty teal': (76, 144, 133),\n",
       " 'grey teal': (94, 155, 138),\n",
       " 'macaroni and cheese': (239, 180, 53),\n",
       " 'pinkish tan': (217, 155, 130),\n",
       " 'spruce': (10, 95, 56),\n",
       " 'strong blue': (12, 6, 247),\n",
       " 'toxic green': (97, 222, 42),\n",
       " 'windows blue': (55, 120, 191),\n",
       " 'blue blue': (34, 66, 199),\n",
       " 'blue with a hint of purple': (83, 60, 198),\n",
       " 'booger': (155, 181, 60),\n",
       " 'bright sea green': (5, 255, 166),\n",
       " 'dark green blue': (31, 99, 87),\n",
       " 'deep turquoise': (1, 115, 116),\n",
       " 'green teal': (12, 181, 119),\n",
       " 'strong pink': (255, 7, 137),\n",
       " 'bland': (175, 168, 139),\n",
       " 'deep aqua': (8, 120, 127),\n",
       " 'lavender pink': (221, 133, 215),\n",
       " 'light moss green': (166, 200, 117),\n",
       " 'light seafoam green': (167, 255, 181),\n",
       " 'olive yellow': (194, 183, 9),\n",
       " 'pig pink': (231, 142, 165),\n",
       " 'deep lilac': (150, 110, 189),\n",
       " 'desert': (204, 173, 96),\n",
       " 'dusty lavender': (172, 134, 168),\n",
       " 'purpley grey': (148, 126, 148),\n",
       " 'purply': (152, 63, 178),\n",
       " 'candy pink': (255, 99, 233),\n",
       " 'light pastel green': (178, 251, 165),\n",
       " 'boring green': (99, 179, 101),\n",
       " 'kiwi green': (142, 229, 63),\n",
       " 'light grey green': (183, 225, 161),\n",
       " 'orange pink': (255, 111, 82),\n",
       " 'tea green': (189, 248, 163),\n",
       " 'very light brown': (211, 182, 131),\n",
       " 'egg shell': (255, 252, 196),\n",
       " 'eggplant purple': (67, 5, 65),\n",
       " 'powder pink': (255, 178, 208),\n",
       " 'reddish grey': (153, 117, 112),\n",
       " 'baby shit brown': (173, 144, 13),\n",
       " 'liliac': (196, 142, 253),\n",
       " 'stormy blue': (80, 123, 156),\n",
       " 'ugly brown': (125, 113, 3),\n",
       " 'custard': (255, 253, 120),\n",
       " 'darkish pink': (218, 70, 125),\n",
       " 'deep brown': (65, 2, 0),\n",
       " 'greenish beige': (201, 209, 121),\n",
       " 'manilla': (255, 250, 134),\n",
       " 'off blue': (86, 132, 174),\n",
       " 'battleship grey': (107, 124, 133),\n",
       " 'browny green': (111, 108, 10),\n",
       " 'bruise': (126, 64, 113),\n",
       " 'kelley green': (0, 147, 55),\n",
       " 'sickly yellow': (208, 228, 41),\n",
       " 'sunny yellow': (255, 249, 23),\n",
       " 'azul': (29, 93, 236),\n",
       " 'darkgreen': (5, 73, 7),\n",
       " 'green/yellow': (181, 206, 8),\n",
       " 'lichen': (143, 182, 123),\n",
       " 'light light green': (200, 255, 176),\n",
       " 'pale gold': (253, 222, 108),\n",
       " 'sun yellow': (255, 223, 34),\n",
       " 'tan green': (169, 190, 112),\n",
       " 'burple': (104, 50, 227),\n",
       " 'butterscotch': (253, 177, 71),\n",
       " 'toupe': (199, 172, 125),\n",
       " 'dark cream': (255, 243, 154),\n",
       " 'indian red': (133, 14, 4),\n",
       " 'light lavendar': (239, 192, 254),\n",
       " 'poison green': (64, 253, 20),\n",
       " 'baby puke green': (182, 196, 6),\n",
       " 'bright yellow green': (157, 255, 0),\n",
       " 'charcoal grey': (60, 65, 66),\n",
       " 'squash': (242, 171, 21),\n",
       " 'cinnamon': (172, 79, 6),\n",
       " 'light pea green': (196, 254, 130),\n",
       " 'radioactive green': (44, 250, 31),\n",
       " 'raw sienna': (154, 98, 0),\n",
       " 'baby purple': (202, 155, 247),\n",
       " 'cocoa': (135, 95, 66),\n",
       " 'light royal blue': (58, 46, 254),\n",
       " 'orangeish': (253, 141, 73),\n",
       " 'rust brown': (139, 49, 3),\n",
       " 'sand brown': (203, 165, 96),\n",
       " 'swamp': (105, 131, 57),\n",
       " 'tealish green': (12, 220, 115),\n",
       " 'burnt siena': (183, 82, 3),\n",
       " 'camo': (127, 143, 78),\n",
       " 'dusk blue': (38, 83, 141),\n",
       " 'fern': (99, 169, 80),\n",
       " 'old rose': (200, 127, 137),\n",
       " 'pale light green': (177, 252, 153),\n",
       " 'peachy pink': (255, 154, 138),\n",
       " 'rosy pink': (246, 104, 142),\n",
       " 'light bluish green': (118, 253, 168),\n",
       " 'light bright green': (83, 254, 92),\n",
       " 'light neon green': (78, 253, 84),\n",
       " 'light seafoam': (160, 254, 191),\n",
       " 'tiffany blue': (123, 242, 218),\n",
       " 'washed out green': (188, 245, 166),\n",
       " 'browny orange': (202, 107, 2),\n",
       " 'nice blue': (16, 122, 176),\n",
       " 'sapphire': (33, 56, 171),\n",
       " 'greyish teal': (113, 159, 145),\n",
       " 'orangey yellow': (253, 185, 21),\n",
       " 'parchment': (254, 252, 175),\n",
       " 'straw': (252, 246, 121),\n",
       " 'very dark brown': (29, 2, 0),\n",
       " 'terracota': (203, 104, 67),\n",
       " 'ugly blue': (49, 102, 138),\n",
       " 'clear blue': (36, 122, 253),\n",
       " 'creme': (255, 255, 182),\n",
       " 'foam green': (144, 253, 169),\n",
       " 'grey/green': (134, 161, 125),\n",
       " 'light gold': (253, 220, 92),\n",
       " 'seafoam blue': (120, 209, 182),\n",
       " 'topaz': (19, 187, 175),\n",
       " 'violet pink': (251, 95, 252),\n",
       " 'wintergreen': (32, 249, 134),\n",
       " 'yellow tan': (255, 227, 110),\n",
       " 'dark fuchsia': (157, 7, 89),\n",
       " 'indigo blue': (58, 24, 177),\n",
       " 'light yellowish green': (194, 255, 137),\n",
       " 'pale magenta': (215, 103, 173),\n",
       " 'rich purple': (114, 0, 88),\n",
       " 'sunflower yellow': (255, 218, 3),\n",
       " 'green/blue': (1, 192, 141),\n",
       " 'leather': (172, 116, 52),\n",
       " 'racing green': (1, 70, 0),\n",
       " 'vivid purple': (153, 0, 250),\n",
       " 'dark royal blue': (2, 6, 111),\n",
       " 'hazel': (142, 118, 24),\n",
       " 'muted pink': (209, 118, 143),\n",
       " 'booger green': (150, 180, 3),\n",
       " 'canary': (253, 255, 99),\n",
       " 'cool grey': (149, 163, 166),\n",
       " 'dark taupe': (127, 104, 78),\n",
       " 'darkish purple': (117, 25, 115),\n",
       " 'true green': (8, 148, 4),\n",
       " 'coral pink': (255, 97, 99),\n",
       " 'dark sage': (89, 133, 86),\n",
       " 'dark slate blue': (33, 71, 97),\n",
       " 'flat blue': (60, 115, 168),\n",
       " 'mushroom': (186, 158, 136),\n",
       " 'rich blue': (2, 27, 249),\n",
       " 'dirty purple': (115, 74, 101),\n",
       " 'greenblue': (35, 196, 139),\n",
       " 'icky green': (143, 174, 34),\n",
       " 'light khaki': (230, 242, 162),\n",
       " 'warm blue': (75, 87, 219),\n",
       " 'dark hot pink': (217, 1, 102),\n",
       " 'deep sea blue': (1, 84, 130),\n",
       " 'carmine': (157, 2, 22),\n",
       " 'dark yellow green': (114, 143, 2),\n",
       " 'pale peach': (255, 229, 173),\n",
       " 'plum purple': (78, 5, 80),\n",
       " 'golden rod': (249, 188, 8),\n",
       " 'neon red': (255, 7, 58),\n",
       " 'old pink': (199, 121, 134),\n",
       " 'very pale blue': (214, 255, 254),\n",
       " 'blood orange': (254, 75, 3),\n",
       " 'grapefruit': (253, 89, 86),\n",
       " 'sand yellow': (252, 225, 102),\n",
       " 'clay brown': (178, 113, 61),\n",
       " 'dark blue grey': (31, 59, 77),\n",
       " 'flat green': (105, 157, 76),\n",
       " 'light green blue': (86, 252, 162),\n",
       " 'warm pink': (251, 85, 129),\n",
       " 'dodger blue': (62, 130, 252),\n",
       " 'gross green': (160, 191, 22),\n",
       " 'ice': (214, 255, 250),\n",
       " 'metallic blue': (79, 115, 142),\n",
       " 'pale salmon': (255, 177, 154),\n",
       " 'sap green': (92, 139, 21),\n",
       " 'algae': (84, 172, 104),\n",
       " 'bluey grey': (137, 160, 176),\n",
       " 'greeny grey': (126, 160, 122),\n",
       " 'highlighter green': (27, 252, 6),\n",
       " 'light light blue': (202, 255, 251),\n",
       " 'light mint': (182, 255, 187),\n",
       " 'raw umber': (167, 94, 9),\n",
       " 'vivid blue': (21, 46, 255),\n",
       " 'deep lavender': (141, 94, 183),\n",
       " 'dull teal': (95, 158, 143),\n",
       " 'light greenish blue': (99, 247, 180),\n",
       " 'mud green': (96, 102, 2),\n",
       " 'pinky': (252, 134, 170),\n",
       " 'red wine': (140, 0, 52),\n",
       " 'shit green': (117, 128, 0),\n",
       " 'tan brown': (171, 126, 76),\n",
       " 'darkblue': (3, 7, 100),\n",
       " 'rosa': (254, 134, 164),\n",
       " 'lipstick': (213, 23, 78),\n",
       " 'pale mauve': (254, 208, 252),\n",
       " 'claret': (104, 0, 24),\n",
       " 'dandelion': (254, 223, 8),\n",
       " 'orangered': (254, 66, 15),\n",
       " 'poop green': (111, 124, 0),\n",
       " 'ruby': (202, 1, 71),\n",
       " 'dark': (27, 36, 49),\n",
       " 'greenish turquoise': (0, 251, 176),\n",
       " 'pastel red': (219, 88, 86),\n",
       " 'piss yellow': (221, 214, 24),\n",
       " 'bright cyan': (65, 253, 254),\n",
       " 'dark coral': (207, 82, 78),\n",
       " 'algae green': (33, 195, 111),\n",
       " 'darkish red': (169, 3, 8),\n",
       " 'reddy brown': (110, 16, 5),\n",
       " 'blush pink': (254, 130, 140),\n",
       " 'camouflage green': (75, 97, 19),\n",
       " 'lawn green': (77, 164, 9),\n",
       " 'putty': (190, 174, 138),\n",
       " 'vibrant blue': (3, 57, 248),\n",
       " 'dark sand': (168, 143, 89),\n",
       " 'purple/blue': (93, 33, 208),\n",
       " 'saffron': (254, 178, 9),\n",
       " 'twilight': (78, 81, 139),\n",
       " 'warm brown': (150, 78, 2),\n",
       " 'bluegrey': (133, 163, 178),\n",
       " 'bubble gum pink': (255, 105, 175),\n",
       " 'duck egg blue': (195, 251, 244),\n",
       " 'greenish cyan': (42, 254, 183),\n",
       " 'petrol': (0, 95, 106),\n",
       " 'royal': (12, 23, 147),\n",
       " 'butter': (255, 255, 129),\n",
       " 'dusty orange': (240, 131, 58),\n",
       " 'off yellow': (241, 243, 63),\n",
       " 'pale olive green': (177, 210, 123),\n",
       " 'orangish': (252, 130, 74),\n",
       " 'leaf': (113, 170, 52),\n",
       " 'light blue grey': (183, 201, 226),\n",
       " 'dried blood': (75, 1, 1),\n",
       " 'lightish purple': (165, 82, 230),\n",
       " 'rusty red': (175, 47, 13),\n",
       " 'lavender blue': (139, 136, 248),\n",
       " 'light grass green': (154, 247, 100),\n",
       " 'light mint green': (166, 251, 178),\n",
       " 'sunflower': (255, 197, 18),\n",
       " 'velvet': (117, 8, 81),\n",
       " 'brick orange': (193, 74, 9),\n",
       " 'lightish red': (254, 47, 74),\n",
       " 'pure blue': (2, 3, 226),\n",
       " 'twilight blue': (10, 67, 122),\n",
       " 'violet red': (165, 0, 85),\n",
       " 'yellowy brown': (174, 139, 12),\n",
       " 'carnation': (253, 121, 143),\n",
       " 'muddy yellow': (191, 172, 5),\n",
       " 'dark seafoam green': (62, 175, 118),\n",
       " 'deep rose': (199, 71, 103),\n",
       " 'dusty red': (185, 72, 78),\n",
       " 'grey/blue': (100, 125, 142),\n",
       " 'lemon lime': (191, 254, 40),\n",
       " 'purple/pink': (215, 37, 222),\n",
       " 'brown yellow': (178, 151, 5),\n",
       " 'purple brown': (103, 58, 63),\n",
       " 'wisteria': (168, 125, 194),\n",
       " 'banana yellow': (250, 254, 75),\n",
       " 'lipstick red': (192, 2, 47),\n",
       " 'water blue': (14, 135, 204),\n",
       " 'brown grey': (141, 132, 104),\n",
       " 'vibrant purple': (173, 3, 222),\n",
       " 'baby green': (140, 255, 158),\n",
       " 'barf green': (148, 172, 2),\n",
       " 'eggshell blue': (196, 255, 247),\n",
       " 'sandy yellow': (253, 238, 115),\n",
       " 'cool green': (51, 184, 100),\n",
       " 'pale': (255, 249, 208),\n",
       " 'blue/grey': (117, 141, 163),\n",
       " 'hot magenta': (245, 4, 201),\n",
       " 'greyblue': (119, 161, 181),\n",
       " 'purpley': (135, 86, 228),\n",
       " 'baby shit green': (136, 151, 23),\n",
       " 'brownish pink': (194, 126, 121),\n",
       " 'dark aquamarine': (1, 115, 113),\n",
       " 'diarrhea': (159, 131, 3),\n",
       " 'light mustard': (247, 213, 96),\n",
       " 'pale sky blue': (189, 246, 254),\n",
       " 'turtle green': (117, 184, 79),\n",
       " 'bright olive': (156, 187, 4),\n",
       " 'dark grey blue': (41, 70, 91),\n",
       " 'greeny brown': (105, 96, 6),\n",
       " 'lemon green': (173, 248, 2),\n",
       " 'light periwinkle': (193, 198, 252),\n",
       " 'seaweed green': (53, 173, 107),\n",
       " 'sunshine yellow': (255, 253, 55),\n",
       " 'ugly purple': (164, 66, 160),\n",
       " 'medium pink': (243, 97, 150),\n",
       " 'puke brown': (148, 119, 6),\n",
       " 'very light pink': (255, 244, 242),\n",
       " 'viridian': (30, 145, 103),\n",
       " 'bile': (181, 195, 6),\n",
       " 'faded yellow': (254, 255, 127),\n",
       " 'very pale green': (207, 253, 188),\n",
       " 'vibrant green': (10, 221, 8),\n",
       " 'bright lime': (135, 253, 5),\n",
       " 'spearmint': (30, 248, 118),\n",
       " 'light aquamarine': (123, 253, 199),\n",
       " 'light sage': (188, 236, 172),\n",
       " 'yellowgreen': (187, 249, 15),\n",
       " 'baby poo': (171, 144, 4),\n",
       " 'dark seafoam': (31, 181, 122),\n",
       " 'deep teal': (0, 85, 90),\n",
       " 'heather': (164, 132, 172),\n",
       " 'rust orange': (196, 85, 8),\n",
       " 'dirty blue': (63, 130, 157),\n",
       " 'fern green': (84, 141, 68),\n",
       " 'bright lilac': (201, 94, 251),\n",
       " 'weird green': (58, 229, 127),\n",
       " 'peacock blue': (1, 103, 149),\n",
       " 'avocado green': (135, 169, 34),\n",
       " 'faded orange': (240, 148, 77),\n",
       " 'grape purple': (93, 20, 81),\n",
       " 'hot green': (37, 255, 41),\n",
       " 'lime yellow': (208, 254, 29),\n",
       " 'mango': (255, 166, 43),\n",
       " 'shamrock': (1, 180, 76),\n",
       " 'bubblegum': (255, 108, 181),\n",
       " 'purplish brown': (107, 66, 71),\n",
       " 'vomit yellow': (199, 193, 12),\n",
       " 'pale cyan': (183, 255, 250),\n",
       " 'key lime': (174, 255, 110),\n",
       " 'tomato red': (236, 45, 1),\n",
       " 'lightgreen': (118, 255, 123),\n",
       " 'merlot': (115, 0, 57),\n",
       " 'night blue': (4, 3, 72),\n",
       " 'purpleish pink': (223, 78, 200),\n",
       " 'apple': (110, 203, 60),\n",
       " 'baby poop green': (143, 152, 5),\n",
       " 'green apple': (94, 220, 31),\n",
       " 'heliotrope': (217, 79, 245),\n",
       " 'yellow/green': (200, 253, 61),\n",
       " 'almost black': (7, 13, 13),\n",
       " 'cool blue': (73, 132, 184),\n",
       " 'leafy green': (81, 183, 59),\n",
       " 'mustard brown': (172, 126, 4),\n",
       " 'dusk': (78, 84, 129),\n",
       " 'dull brown': (135, 110, 75),\n",
       " 'frog green': (88, 188, 8),\n",
       " 'vivid green': (47, 239, 16),\n",
       " 'bright light green': (45, 254, 84),\n",
       " 'fluro green': (10, 255, 2),\n",
       " 'kiwi': (156, 239, 67),\n",
       " 'seaweed': (24, 209, 123),\n",
       " 'navy green': (53, 83, 10),\n",
       " 'ultramarine blue': (24, 5, 219),\n",
       " 'iris': (98, 88, 196),\n",
       " 'pastel orange': (255, 150, 79),\n",
       " 'yellowish orange': (255, 171, 15),\n",
       " 'perrywinkle': (143, 140, 231),\n",
       " 'tealish': (36, 188, 168),\n",
       " 'dark plum': (63, 1, 44),\n",
       " 'pear': (203, 248, 95),\n",
       " 'pinkish orange': (255, 114, 76),\n",
       " 'midnight purple': (40, 1, 55),\n",
       " 'light urple': (179, 111, 246),\n",
       " 'dark mint': (72, 192, 114),\n",
       " 'greenish tan': (188, 203, 122),\n",
       " 'light burgundy': (168, 65, 91),\n",
       " 'turquoise blue': (6, 177, 196),\n",
       " 'ugly pink': (205, 117, 132),\n",
       " 'sandy': (241, 218, 122),\n",
       " 'electric pink': (255, 4, 144),\n",
       " 'muted purple': (128, 91, 135),\n",
       " 'mid green': (80, 167, 71),\n",
       " 'greyish': (168, 164, 149),\n",
       " 'neon yellow': (207, 255, 4),\n",
       " 'banana': (255, 255, 126),\n",
       " 'carnation pink': (255, 127, 167),\n",
       " 'tomato': (239, 64, 38),\n",
       " 'sea': (60, 153, 146),\n",
       " 'muddy brown': (136, 104, 6),\n",
       " 'turquoise green': (4, 244, 137),\n",
       " 'buff': (254, 246, 158),\n",
       " 'fawn': (207, 175, 123),\n",
       " 'muted blue': (59, 113, 159),\n",
       " 'pale rose': (253, 193, 197),\n",
       " 'dark mint green': (32, 192, 115),\n",
       " 'amethyst': (155, 95, 192),\n",
       " 'blue/green': (15, 155, 142),\n",
       " 'chestnut': (116, 40, 2),\n",
       " 'sick green': (157, 185, 44),\n",
       " 'pea': (164, 191, 32),\n",
       " 'rusty orange': (205, 89, 9),\n",
       " 'stone': (173, 165, 135),\n",
       " 'rose red': (190, 1, 60),\n",
       " 'pale aqua': (184, 255, 235),\n",
       " 'deep orange': (220, 77, 1),\n",
       " 'earth': (162, 101, 62),\n",
       " 'mossy green': (99, 139, 39),\n",
       " 'grassy green': (65, 156, 3),\n",
       " 'pale lime green': (177, 255, 101),\n",
       " 'light grey blue': (157, 188, 212),\n",
       " 'pale grey': (253, 253, 254),\n",
       " 'asparagus': (119, 171, 86),\n",
       " 'blueberry': (70, 65, 150),\n",
       " 'purple red': (153, 1, 71),\n",
       " 'pale lime': (190, 253, 115),\n",
       " 'greenish teal': (50, 191, 132),\n",
       " 'caramel': (175, 111, 9),\n",
       " 'deep magenta': (160, 2, 92),\n",
       " 'light peach': (255, 216, 177),\n",
       " 'milk chocolate': (127, 78, 30),\n",
       " 'ocher': (191, 155, 12),\n",
       " 'off green': (107, 163, 83),\n",
       " 'purply pink': (240, 117, 230),\n",
       " 'lightblue': (123, 200, 246),\n",
       " 'dusky blue': (71, 95, 148),\n",
       " 'golden': (245, 191, 3),\n",
       " 'light beige': (255, 254, 182),\n",
       " 'butter yellow': (255, 253, 116),\n",
       " 'dusky purple': (137, 91, 123),\n",
       " 'french blue': (67, 107, 173),\n",
       " 'ugly yellow': (208, 193, 1),\n",
       " 'greeny yellow': (198, 248, 8),\n",
       " 'orangish red': (244, 54, 5),\n",
       " 'shamrock green': (2, 193, 77),\n",
       " 'orangish brown': (178, 95, 3),\n",
       " 'tree green': (42, 126, 25),\n",
       " 'deep violet': (73, 6, 72),\n",
       " 'gunmetal': (83, 98, 103),\n",
       " 'blue/purple': (90, 6, 239),\n",
       " 'cherry': (207, 2, 52),\n",
       " 'sandy brown': (196, 166, 97),\n",
       " 'warm grey': (151, 138, 132),\n",
       " 'dark indigo': (31, 9, 84),\n",
       " 'midnight': (3, 1, 45),\n",
       " 'bluey green': (43, 177, 121),\n",
       " 'grey pink': (195, 144, 155),\n",
       " 'soft purple': (166, 111, 181),\n",
       " 'blood': (119, 0, 1),\n",
       " 'brown red': (146, 43, 5),\n",
       " 'medium grey': (125, 127, 124),\n",
       " 'berry': (153, 15, 75),\n",
       " 'poo': (143, 115, 3),\n",
       " 'purpley pink': (200, 60, 185),\n",
       " 'light salmon': (254, 169, 147),\n",
       " 'snot': (172, 187, 13),\n",
       " 'easter purple': (192, 113, 254),\n",
       " 'light yellow green': (204, 253, 127),\n",
       " 'dark navy blue': (0, 2, 46),\n",
       " 'drab': (130, 131, 68),\n",
       " 'light rose': (255, 197, 203),\n",
       " 'rouge': (171, 18, 57),\n",
       " 'purplish red': (176, 5, 75),\n",
       " 'slime green': (153, 204, 4),\n",
       " 'baby poop': (147, 124, 0),\n",
       " 'irish green': (1, 149, 41),\n",
       " 'pink/purple': (239, 29, 231),\n",
       " 'dark navy': (0, 4, 53),\n",
       " 'greeny blue': (66, 179, 149),\n",
       " 'light plum': (157, 87, 131),\n",
       " 'pinkish grey': (200, 172, 169),\n",
       " 'dirty orange': (200, 118, 6),\n",
       " 'rust red': (170, 39, 4),\n",
       " 'pale lilac': (228, 203, 255),\n",
       " 'orangey red': (250, 66, 36),\n",
       " 'primary blue': (8, 4, 249),\n",
       " 'kermit green': (92, 178, 0),\n",
       " 'brownish purple': (118, 66, 78),\n",
       " 'murky green': (108, 122, 14),\n",
       " 'wheat': (251, 221, 126),\n",
       " 'very dark purple': (42, 1, 52),\n",
       " 'bottle green': (4, 74, 5),\n",
       " 'watermelon': (253, 70, 89),\n",
       " 'deep sky blue': (13, 117, 248),\n",
       " 'fire engine red': (254, 0, 2),\n",
       " 'yellow ochre': (203, 157, 6),\n",
       " 'pumpkin orange': (251, 125, 7),\n",
       " 'pale olive': (185, 204, 129),\n",
       " 'light lilac': (237, 200, 255),\n",
       " 'lightish green': (97, 225, 96),\n",
       " 'carolina blue': (138, 184, 254),\n",
       " 'mulberry': (146, 10, 78),\n",
       " 'shocking pink': (254, 2, 162),\n",
       " 'auburn': (154, 48, 1),\n",
       " 'bright lime green': (101, 254, 8),\n",
       " 'celadon': (190, 253, 183),\n",
       " 'pinkish brown': (177, 114, 97),\n",
       " 'poo brown': (136, 95, 1),\n",
       " 'bright sky blue': (2, 204, 254),\n",
       " 'celery': (193, 253, 149),\n",
       " 'dirt brown': (131, 101, 57),\n",
       " 'strawberry': (251, 41, 67),\n",
       " 'dark lime': (132, 183, 1),\n",
       " 'copper': (182, 99, 37),\n",
       " 'medium brown': (127, 81, 18),\n",
       " 'muted green': (95, 160, 82),\n",
       " \"robin's egg\": (109, 237, 253),\n",
       " 'bright aqua': (11, 249, 234),\n",
       " 'bright lavender': (199, 96, 255),\n",
       " 'ivory': (255, 255, 203),\n",
       " 'very light purple': (246, 206, 252),\n",
       " 'light navy': (21, 80, 132),\n",
       " 'pink red': (245, 5, 79),\n",
       " 'olive brown': (100, 84, 3),\n",
       " 'poop brown': (122, 89, 1),\n",
       " 'mustard green': (168, 181, 4),\n",
       " 'ocean green': (61, 153, 115),\n",
       " 'very dark blue': (0, 1, 51),\n",
       " 'dusty green': (118, 169, 115),\n",
       " 'light navy blue': (46, 90, 136),\n",
       " 'minty green': (11, 247, 125),\n",
       " 'adobe': (189, 108, 72),\n",
       " 'barney': (172, 29, 184),\n",
       " 'jade green': (43, 175, 106),\n",
       " 'bright light blue': (38, 247, 253),\n",
       " 'light lime': (174, 253, 108),\n",
       " 'dark khaki': (155, 143, 85),\n",
       " 'orange yellow': (255, 173, 1),\n",
       " 'ocre': (198, 156, 4),\n",
       " 'maize': (244, 208, 84),\n",
       " 'faded pink': (222, 157, 172),\n",
       " 'british racing green': (5, 72, 13),\n",
       " 'sandstone': (201, 174, 116),\n",
       " 'mud brown': (96, 70, 15),\n",
       " 'light sea green': (152, 246, 176),\n",
       " 'robin egg blue': (138, 241, 254),\n",
       " 'aqua marine': (46, 232, 187),\n",
       " 'dark sea green': (17, 135, 93),\n",
       " 'soft pink': (253, 176, 192),\n",
       " 'orangey brown': (177, 96, 2),\n",
       " 'cherry red': (247, 2, 42),\n",
       " 'burnt yellow': (213, 171, 9),\n",
       " 'brownish grey': (134, 119, 95),\n",
       " 'camel': (198, 159, 89),\n",
       " 'purplish grey': (122, 104, 127),\n",
       " 'marine': (4, 46, 96),\n",
       " 'greyish pink': (200, 141, 148),\n",
       " 'pale turquoise': (165, 251, 213),\n",
       " 'pastel yellow': (255, 254, 113),\n",
       " 'bluey purple': (98, 65, 199),\n",
       " 'canary yellow': (255, 254, 64),\n",
       " 'faded red': (211, 73, 78),\n",
       " 'sepia': (152, 94, 43),\n",
       " 'coffee': (166, 129, 76),\n",
       " 'bright magenta': (255, 8, 232),\n",
       " 'mocha': (157, 118, 81),\n",
       " 'ecru': (254, 255, 202),\n",
       " 'purpleish': (152, 86, 141),\n",
       " 'cranberry': (158, 0, 58),\n",
       " 'darkish green': (40, 124, 55),\n",
       " 'brown orange': (185, 105, 2),\n",
       " 'dusky rose': (186, 104, 115),\n",
       " 'melon': (255, 120, 85),\n",
       " 'sickly green': (148, 178, 28),\n",
       " 'silver': (197, 201, 199),\n",
       " 'purply blue': (102, 26, 238),\n",
       " 'purpleish blue': (97, 64, 239),\n",
       " 'hospital green': (155, 229, 170),\n",
       " 'shit brown': (123, 88, 4),\n",
       " 'mid blue': (39, 106, 179),\n",
       " 'amber': (254, 179, 8),\n",
       " 'easter green': (140, 253, 126),\n",
       " 'soft blue': (100, 136, 234),\n",
       " 'cerulean blue': (5, 110, 238),\n",
       " 'golden brown': (178, 122, 1),\n",
       " 'bright turquoise': (15, 254, 249),\n",
       " 'red pink': (250, 42, 85),\n",
       " 'red purple': (130, 7, 71),\n",
       " 'greyish brown': (122, 106, 79),\n",
       " 'vermillion': (244, 50, 12),\n",
       " 'russet': (161, 57, 5),\n",
       " 'steel grey': (111, 130, 138),\n",
       " 'lighter purple': (165, 90, 244),\n",
       " 'bright violet': (173, 10, 253),\n",
       " 'prussian blue': (0, 69, 119),\n",
       " 'slate green': (101, 141, 109),\n",
       " 'dirty pink': (202, 123, 128),\n",
       " 'dark blue green': (0, 82, 73),\n",
       " 'pine': (43, 93, 52),\n",
       " 'yellowy green': (191, 241, 40),\n",
       " 'dark gold': (181, 148, 16),\n",
       " 'bluish': (41, 118, 187),\n",
       " 'darkish blue': (1, 65, 130),\n",
       " 'dull red': (187, 63, 63),\n",
       " 'pinky red': (252, 38, 71),\n",
       " 'bronze': (168, 121, 0),\n",
       " 'pale teal': (130, 203, 178),\n",
       " 'military green': (102, 124, 62),\n",
       " 'barbie pink': (254, 70, 165),\n",
       " 'bubblegum pink': (254, 131, 204),\n",
       " 'pea soup green': (148, 166, 23),\n",
       " 'dark mustard': (168, 137, 5),\n",
       " 'shit': (127, 95, 0),\n",
       " 'medium purple': (158, 67, 162),\n",
       " 'very dark green': (6, 46, 3),\n",
       " 'dirt': (138, 110, 69),\n",
       " 'dusky pink': (204, 122, 139),\n",
       " 'red violet': (158, 1, 104),\n",
       " 'lemon yellow': (253, 255, 56),\n",
       " 'pistachio': (192, 250, 139),\n",
       " 'dull yellow': (238, 220, 91),\n",
       " 'dark lime green': (126, 189, 1),\n",
       " 'denim blue': (59, 91, 146),\n",
       " 'teal blue': (1, 136, 159),\n",
       " 'lightish blue': (61, 122, 253),\n",
       " 'purpley blue': (95, 52, 231),\n",
       " 'light indigo': (109, 90, 207),\n",
       " 'swamp green': (116, 133, 0),\n",
       " 'brown green': (112, 108, 17),\n",
       " 'dark maroon': (60, 0, 8),\n",
       " 'hot purple': (203, 0, 245),\n",
       " 'dark forest green': (0, 45, 4),\n",
       " 'faded blue': (101, 140, 187),\n",
       " 'drab green': (116, 149, 81),\n",
       " 'light lime green': (185, 255, 102),\n",
       " 'snot green': (157, 193, 0),\n",
       " 'yellowish': (250, 238, 102),\n",
       " 'light blue green': (126, 251, 179),\n",
       " 'bordeaux': (123, 0, 44),\n",
       " 'light mauve': (194, 146, 161),\n",
       " 'ocean': (1, 123, 146),\n",
       " 'marigold': (252, 192, 6),\n",
       " 'muddy green': (101, 116, 50),\n",
       " 'dull orange': (216, 134, 59),\n",
       " 'steel': (115, 133, 149),\n",
       " 'electric purple': (170, 35, 255),\n",
       " 'fluorescent green': (8, 255, 8),\n",
       " 'yellowish brown': (155, 122, 1),\n",
       " 'blush': (242, 158, 142),\n",
       " 'soft green': (111, 194, 118),\n",
       " 'bright orange': (255, 91, 0),\n",
       " 'lemon': (253, 255, 82),\n",
       " 'purple grey': (134, 111, 133),\n",
       " 'acid green': (143, 254, 9),\n",
       " 'pale lavender': (238, 207, 254),\n",
       " 'violet blue': (81, 10, 201),\n",
       " 'light forest green': (79, 145, 83),\n",
       " 'burnt red': (159, 35, 5),\n",
       " 'khaki green': (114, 134, 57),\n",
       " 'cerise': (222, 12, 98),\n",
       " 'faded purple': (145, 110, 153),\n",
       " 'apricot': (255, 177, 109),\n",
       " 'dark olive green': (60, 77, 3),\n",
       " 'grey brown': (127, 112, 83),\n",
       " 'green grey': (119, 146, 111),\n",
       " 'true blue': (1, 15, 204),\n",
       " 'pale violet': (206, 174, 250),\n",
       " 'periwinkle blue': (143, 153, 251),\n",
       " 'light sky blue': (198, 252, 255),\n",
       " 'blurple': (85, 57, 204),\n",
       " 'green brown': (84, 78, 3),\n",
       " 'bluegreen': (1, 122, 121),\n",
       " 'bright teal': (1, 249, 198),\n",
       " 'brownish yellow': (201, 176, 3),\n",
       " 'pea soup': (146, 153, 1),\n",
       " 'forest': (11, 85, 9),\n",
       " 'barney purple': (160, 4, 152),\n",
       " 'ultramarine': (32, 0, 177),\n",
       " 'purplish': (148, 86, 140),\n",
       " 'puke yellow': (194, 190, 14),\n",
       " 'bluish grey': (116, 139, 151),\n",
       " 'dark periwinkle': (102, 95, 209),\n",
       " 'dark lilac': (156, 109, 165),\n",
       " 'reddish': (196, 66, 64),\n",
       " 'light maroon': (162, 72, 87),\n",
       " 'dusty purple': (130, 95, 135),\n",
       " 'terra cotta': (201, 100, 59),\n",
       " 'avocado': (144, 177, 52),\n",
       " 'marine blue': (1, 56, 106),\n",
       " 'teal green': (37, 163, 111),\n",
       " 'slate grey': (89, 101, 109),\n",
       " 'lighter green': (117, 253, 99),\n",
       " 'electric green': (33, 252, 13),\n",
       " 'dusty blue': (90, 134, 173),\n",
       " 'golden yellow': (254, 198, 21),\n",
       " 'bright yellow': (255, 253, 1),\n",
       " 'light lavender': (223, 197, 254),\n",
       " 'umber': (178, 100, 0),\n",
       " 'poop': (127, 94, 0),\n",
       " 'dark peach': (222, 126, 93),\n",
       " 'jungle green': (4, 130, 67),\n",
       " 'eggshell': (255, 255, 212),\n",
       " 'denim': (59, 99, 140),\n",
       " 'yellow brown': (183, 148, 0),\n",
       " 'dull purple': (132, 89, 126),\n",
       " 'chocolate brown': (65, 25, 0),\n",
       " 'wine red': (123, 3, 35),\n",
       " 'neon blue': (4, 217, 255),\n",
       " 'dirty green': (102, 126, 44),\n",
       " 'light tan': (251, 238, 172),\n",
       " 'ice blue': (215, 255, 254),\n",
       " 'cadet blue': (78, 116, 150),\n",
       " 'dark mauve': (135, 76, 98),\n",
       " 'very light blue': (213, 255, 255),\n",
       " 'grey purple': (130, 109, 140),\n",
       " 'pastel pink': (255, 186, 205),\n",
       " 'very light green': (209, 255, 189),\n",
       " 'dark sky blue': (68, 142, 228),\n",
       " 'evergreen': (5, 71, 42),\n",
       " 'dull pink': (213, 134, 157),\n",
       " 'aubergine': (61, 7, 52),\n",
       " 'mahogany': (74, 1, 0),\n",
       " 'reddish orange': (248, 72, 28),\n",
       " 'deep green': (2, 89, 15),\n",
       " 'vomit green': (137, 162, 3),\n",
       " 'purple pink': (224, 63, 216),\n",
       " 'dusty pink': (213, 138, 148),\n",
       " 'faded green': (123, 178, 116),\n",
       " 'camo green': (82, 101, 37),\n",
       " 'pinky purple': (201, 76, 190),\n",
       " 'pink purple': (219, 75, 218),\n",
       " 'brownish red': (158, 54, 35),\n",
       " 'dark rose': (181, 72, 93),\n",
       " 'mud': (115, 92, 18),\n",
       " 'brownish': (156, 109, 87),\n",
       " 'emerald green': (2, 143, 30),\n",
       " 'pale brown': (177, 145, 110),\n",
       " 'dull blue': (73, 117, 156),\n",
       " 'burnt umber': (160, 69, 14),\n",
       " 'medium green': (57, 173, 72),\n",
       " 'clay': (182, 106, 80),\n",
       " 'light aqua': (140, 255, 219),\n",
       " 'light olive green': (164, 190, 92),\n",
       " 'brownish orange': (203, 119, 35),\n",
       " 'dark aqua': (5, 105, 107),\n",
       " 'purplish pink': (206, 93, 174),\n",
       " 'dark salmon': (200, 90, 83),\n",
       " 'greenish grey': (150, 174, 141),\n",
       " 'jade': (31, 167, 116),\n",
       " 'ugly green': (122, 151, 3),\n",
       " 'dark beige': (172, 147, 98),\n",
       " 'emerald': (1, 160, 73),\n",
       " 'pale red': (217, 84, 77),\n",
       " 'light magenta': (250, 95, 247),\n",
       " 'sky': (130, 202, 252),\n",
       " 'light cyan': (172, 255, 252),\n",
       " 'yellow orange': (252, 176, 1),\n",
       " 'reddish purple': (145, 9, 81),\n",
       " 'reddish pink': (254, 44, 84),\n",
       " 'orchid': (200, 117, 196),\n",
       " 'dirty yellow': (205, 197, 10),\n",
       " 'orange red': (253, 65, 30),\n",
       " 'deep red': (154, 2, 0),\n",
       " 'orange brown': (190, 100, 0),\n",
       " 'cobalt blue': (3, 10, 167),\n",
       " 'neon pink': (254, 1, 154),\n",
       " 'rose pink': (247, 135, 154),\n",
       " 'greyish purple': (136, 113, 145),\n",
       " 'raspberry': (176, 1, 73),\n",
       " 'aqua green': (18, 225, 147),\n",
       " 'salmon pink': (254, 123, 124),\n",
       " 'tangerine': (255, 148, 8),\n",
       " 'brownish green': (106, 110, 9),\n",
       " 'red brown': (139, 46, 22),\n",
       " 'greenish brown': (105, 97, 18),\n",
       " 'pumpkin': (225, 119, 1),\n",
       " 'pine green': (10, 72, 30),\n",
       " 'charcoal': (52, 56, 55),\n",
       " 'baby pink': (255, 183, 206),\n",
       " 'cornflower': (106, 121, 247),\n",
       " 'blue violet': (93, 6, 233),\n",
       " 'chocolate': (61, 28, 2),\n",
       " 'greyish green': (130, 166, 125),\n",
       " 'scarlet': (190, 1, 25),\n",
       " 'green yellow': (201, 255, 39),\n",
       " 'dark olive': (55, 62, 2),\n",
       " 'sienna': (169, 86, 30),\n",
       " 'pastel purple': (202, 160, 255),\n",
       " 'terracotta': (202, 102, 65),\n",
       " 'aqua blue': (2, 216, 233),\n",
       " 'sage green': (136, 179, 120),\n",
       " 'blood red': (152, 0, 2),\n",
       " 'deep pink': (203, 1, 98),\n",
       " 'grass': (92, 172, 45),\n",
       " 'moss': (118, 153, 88),\n",
       " 'pastel blue': (162, 191, 254),\n",
       " 'bluish green': (16, 166, 116),\n",
       " 'green blue': (6, 180, 139),\n",
       " 'dark tan': (175, 136, 74),\n",
       " 'greenish blue': (11, 139, 135),\n",
       " 'pale orange': (255, 167, 86),\n",
       " 'vomit': (162, 164, 21),\n",
       " 'forrest green': (21, 68, 6),\n",
       " 'dark lavender': (133, 103, 152),\n",
       " 'dark violet': (52, 1, 63),\n",
       " 'purple blue': (99, 45, 233),\n",
       " 'dark cyan': (10, 136, 138),\n",
       " 'olive drab': (111, 118, 50),\n",
       " 'pinkish': (212, 106, 126),\n",
       " 'cobalt': (30, 72, 143),\n",
       " 'neon purple': (188, 19, 254),\n",
       " 'light turquoise': (126, 244, 204),\n",
       " 'apple green': (118, 205, 38),\n",
       " 'dull green': (116, 166, 98),\n",
       " 'wine': (128, 1, 63),\n",
       " 'powder blue': (177, 209, 252),\n",
       " 'off white': (255, 255, 228),\n",
       " 'electric blue': (6, 82, 255),\n",
       " 'dark turquoise': (4, 92, 90),\n",
       " 'blue purple': (87, 41, 206),\n",
       " 'azure': (6, 154, 243),\n",
       " 'bright red': (255, 0, 13),\n",
       " 'pinkish red': (241, 12, 69),\n",
       " 'cornflower blue': (81, 112, 215),\n",
       " 'light olive': (172, 191, 105),\n",
       " 'grape': (108, 52, 97),\n",
       " 'greyish blue': (94, 129, 157),\n",
       " 'purplish blue': (96, 30, 249),\n",
       " 'yellowish green': (176, 221, 22),\n",
       " 'greenish yellow': (205, 253, 2),\n",
       " 'medium blue': (44, 111, 187),\n",
       " 'dusty rose': (192, 115, 122),\n",
       " 'light violet': (214, 180, 252),\n",
       " 'midnight blue': (2, 0, 53),\n",
       " 'bluish purple': (112, 59, 231),\n",
       " 'red orange': (253, 60, 6),\n",
       " 'dark magenta': (150, 0, 86),\n",
       " 'greenish': (64, 163, 104),\n",
       " 'ocean blue': (3, 113, 156),\n",
       " 'coral': (252, 90, 80),\n",
       " 'cream': (255, 255, 194),\n",
       " 'reddish brown': (127, 43, 10),\n",
       " 'burnt sienna': (176, 78, 15),\n",
       " 'brick': (160, 54, 35),\n",
       " 'sage': (135, 174, 115),\n",
       " 'grey green': (120, 155, 115),\n",
       " 'white': (255, 255, 255),\n",
       " \"robin's egg blue\": (152, 239, 249),\n",
       " 'moss green': (101, 139, 56),\n",
       " 'steel blue': (90, 125, 154),\n",
       " 'eggplant': (56, 8, 53),\n",
       " 'light yellow': (255, 254, 122),\n",
       " 'leaf green': (92, 169, 4),\n",
       " 'light grey': (216, 220, 214),\n",
       " 'puke': (165, 165, 2),\n",
       " 'pinkish purple': (214, 72, 215),\n",
       " 'sea blue': (4, 116, 149),\n",
       " 'pale purple': (183, 144, 212),\n",
       " 'slate blue': (91, 124, 153),\n",
       " 'blue grey': (96, 124, 142),\n",
       " 'hunter green': (11, 64, 8),\n",
       " 'fuchsia': (237, 13, 217),\n",
       " 'crimson': (140, 0, 15),\n",
       " 'pale yellow': (255, 255, 132),\n",
       " 'ochre': (191, 144, 5),\n",
       " 'mustard yellow': (210, 189, 10),\n",
       " 'light red': (255, 71, 76),\n",
       " 'cerulean': (4, 133, 209),\n",
       " 'pale pink': (255, 207, 220),\n",
       " 'deep blue': (4, 2, 115),\n",
       " 'rust': (168, 60, 9),\n",
       " 'light teal': (144, 228, 193),\n",
       " 'slate': (81, 101, 114),\n",
       " 'goldenrod': (250, 194, 5),\n",
       " 'dark yellow': (213, 182, 10),\n",
       " 'dark grey': (54, 55, 55),\n",
       " 'army green': (75, 93, 22),\n",
       " 'grey blue': (107, 139, 164),\n",
       " 'seafoam': (128, 249, 173),\n",
       " 'puce': (165, 126, 82),\n",
       " 'spring green': (169, 249, 113),\n",
       " 'dark orange': (198, 81, 2),\n",
       " 'sand': (226, 202, 118),\n",
       " 'pastel green': (176, 255, 157),\n",
       " 'mint': (159, 254, 176),\n",
       " 'light orange': (253, 170, 72),\n",
       " 'bright pink': (254, 1, 177),\n",
       " 'chartreuse': (193, 248, 10),\n",
       " 'deep purple': (54, 1, 63),\n",
       " 'dark brown': (52, 28, 2),\n",
       " 'taupe': (185, 162, 129),\n",
       " 'pea green': (142, 171, 18),\n",
       " 'puke green': (154, 174, 7),\n",
       " 'kelly green': (2, 171, 46),\n",
       " 'seafoam green': (122, 249, 171),\n",
       " 'blue green': (19, 126, 109),\n",
       " 'khaki': (170, 166, 98),\n",
       " 'burgundy': (97, 0, 35),\n",
       " 'dark teal': (1, 77, 78),\n",
       " 'brick red': (143, 20, 2),\n",
       " 'royal purple': (75, 0, 110),\n",
       " 'plum': (88, 15, 65),\n",
       " 'mint green': (143, 255, 159),\n",
       " 'gold': (219, 180, 12),\n",
       " 'baby blue': (162, 207, 254),\n",
       " 'yellow green': (192, 251, 45),\n",
       " 'bright purple': (190, 3, 253),\n",
       " 'dark red': (132, 0, 0),\n",
       " 'pale blue': (208, 254, 254),\n",
       " 'grass green': (63, 155, 11),\n",
       " 'navy': (1, 21, 62),\n",
       " 'aquamarine': (4, 216, 178),\n",
       " 'burnt orange': (192, 78, 1),\n",
       " 'neon green': (12, 255, 12),\n",
       " 'bright blue': (1, 101, 252),\n",
       " 'rose': (207, 98, 117),\n",
       " 'light pink': (255, 209, 223),\n",
       " 'mustard': (206, 179, 1),\n",
       " 'indigo': (56, 2, 130),\n",
       " 'lime': (170, 255, 50),\n",
       " 'sea green': (83, 252, 161),\n",
       " 'periwinkle': (142, 130, 254),\n",
       " 'dark pink': (203, 65, 107),\n",
       " 'olive green': (103, 122, 4),\n",
       " 'peach': (255, 176, 124),\n",
       " 'pale green': (199, 253, 181),\n",
       " 'light brown': (173, 129, 80),\n",
       " 'hot pink': (255, 2, 141),\n",
       " 'black': (0, 0, 0),\n",
       " 'lilac': (206, 162, 253),\n",
       " 'navy blue': (0, 17, 70),\n",
       " 'royal blue': (5, 4, 170),\n",
       " 'beige': (230, 218, 166),\n",
       " 'salmon': (255, 121, 108),\n",
       " 'olive': (110, 117, 14),\n",
       " 'maroon': (101, 0, 33),\n",
       " 'bright green': (1, 255, 7),\n",
       " 'dark purple': (53, 6, 62),\n",
       " 'mauve': (174, 113, 129),\n",
       " 'forest green': (6, 71, 12),\n",
       " 'aqua': (19, 234, 201),\n",
       " 'cyan': (0, 255, 255),\n",
       " 'tan': (209, 178, 111),\n",
       " 'dark blue': (0, 3, 91),\n",
       " 'lavender': (199, 159, 239),\n",
       " 'turquoise': (6, 194, 172),\n",
       " 'dark green': (3, 53, 0),\n",
       " 'violet': (154, 14, 234),\n",
       " 'light purple': (191, 119, 246),\n",
       " 'lime green': (137, 254, 5),\n",
       " 'grey': (146, 149, 145),\n",
       " 'sky blue': (117, 187, 253),\n",
       " 'yellow': (255, 255, 20),\n",
       " 'magenta': (194, 0, 120),\n",
       " 'light green': (150, 249, 123),\n",
       " 'orange': (249, 115, 6),\n",
       " 'teal': (2, 147, 134),\n",
       " 'light blue': (149, 208, 252),\n",
       " 'red': (229, 0, 0),\n",
       " 'brown': (101, 55, 0),\n",
       " 'pink': (255, 129, 192),\n",
       " 'blue': (3, 67, 223),\n",
       " 'green': (21, 176, 26),\n",
       " 'purple': (126, 30, 156)}"
      ]
     },
     "execution_count": 28,
     "metadata": {},
     "output_type": "execute_result"
    }
   ],
   "source": [
    "colors"
   ]
  },
  {
   "cell_type": "markdown",
   "metadata": {},
   "source": [
    "Testing it out:"
   ]
  },
  {
   "cell_type": "code",
   "execution_count": 11,
   "metadata": {},
   "outputs": [
    {
     "data": {
      "text/plain": [
       "(110, 117, 14)"
      ]
     },
     "execution_count": 11,
     "metadata": {},
     "output_type": "execute_result"
    }
   ],
   "source": [
    "colors['olive']"
   ]
  },
  {
   "cell_type": "code",
   "execution_count": 12,
   "metadata": {},
   "outputs": [
    {
     "data": {
      "text/plain": [
       "(229, 0, 0)"
      ]
     },
     "execution_count": 12,
     "metadata": {},
     "output_type": "execute_result"
    }
   ],
   "source": [
    "colors['red']"
   ]
  },
  {
   "cell_type": "code",
   "execution_count": 13,
   "metadata": {},
   "outputs": [
    {
     "data": {
      "text/plain": [
       "(0, 0, 0)"
      ]
     },
     "execution_count": 13,
     "metadata": {},
     "output_type": "execute_result"
    }
   ],
   "source": [
    "colors['black']"
   ]
  },
  {
   "cell_type": "markdown",
   "metadata": {},
   "source": [
    "### Vector math\n",
    "\n",
    "Before we keep going, we'll need some functions for performing basic vector \"arithmetic.\" These functions will work with vectors in spaces of any number of dimensions.\n",
    "\n",
    "The first function returns the Euclidean distance between two points:"
   ]
  },
  {
   "cell_type": "code",
   "execution_count": 14,
   "metadata": {
    "scrolled": true
   },
   "outputs": [
    {
     "data": {
      "text/plain": [
       "5.0990195135927845"
      ]
     },
     "execution_count": 14,
     "metadata": {},
     "output_type": "execute_result"
    }
   ],
   "source": [
    "import math\n",
    "def distance(coord1, coord2):\n",
    "    # note, this is VERY SLOW, don't use for actual code\n",
    "    return math.sqrt(sum([(i - j)**2 for i, j in zip(coord1, coord2)]))\n",
    "distance([10, 1], [5, 2])"
   ]
  },
  {
   "cell_type": "markdown",
   "metadata": {},
   "source": [
    "The `subtractv` function subtracts one vector from another:"
   ]
  },
  {
   "cell_type": "code",
   "execution_count": 15,
   "metadata": {},
   "outputs": [
    {
     "data": {
      "text/plain": [
       "[5, -1]"
      ]
     },
     "execution_count": 15,
     "metadata": {},
     "output_type": "execute_result"
    }
   ],
   "source": [
    "def subtractv(coord1, coord2):\n",
    "    return [c1 - c2 for c1, c2 in zip(coord1, coord2)]\n",
    "subtractv([10, 1], [5, 2])"
   ]
  },
  {
   "cell_type": "markdown",
   "metadata": {},
   "source": [
    "The `addv` vector adds two vectors together:"
   ]
  },
  {
   "cell_type": "code",
   "execution_count": 16,
   "metadata": {},
   "outputs": [
    {
     "data": {
      "text/plain": [
       "[15, 3]"
      ]
     },
     "execution_count": 16,
     "metadata": {},
     "output_type": "execute_result"
    }
   ],
   "source": [
    "def addv(coord1, coord2):\n",
    "    return [c1 + c2 for c1, c2 in zip(coord1, coord2)]\n",
    "addv([10, 1], [5, 2])"
   ]
  },
  {
   "cell_type": "markdown",
   "metadata": {},
   "source": [
    "And the `meanv` function takes a list of vectors and finds their mean or average:"
   ]
  },
  {
   "cell_type": "code",
   "execution_count": 17,
   "metadata": {},
   "outputs": [
    {
     "data": {
      "text/plain": [
       "[2.0, 2.0]"
      ]
     },
     "execution_count": 17,
     "metadata": {},
     "output_type": "execute_result"
    }
   ],
   "source": [
    "def meanv(coords):\n",
    "    # assumes every item in coords has same length as item 0\n",
    "    sumv = [0] * len(coords[0])\n",
    "    for item in coords:\n",
    "        for i in range(len(item)):\n",
    "            sumv[i] += item[i]\n",
    "    mean = [0] * len(sumv)\n",
    "    for i in range(len(sumv)):\n",
    "        mean[i] = float(sumv[i]) / len(coords)\n",
    "    return mean\n",
    "meanv([[0, 1], [2, 2], [4, 3]])"
   ]
  },
  {
   "cell_type": "markdown",
   "metadata": {},
   "source": [
    "Just as a test, the following cell shows that the distance from \"red\" to \"green\" is greater than the distance from \"red\" to \"pink\":"
   ]
  },
  {
   "cell_type": "code",
   "execution_count": 18,
   "metadata": {},
   "outputs": [
    {
     "data": {
      "text/plain": [
       "True"
      ]
     },
     "execution_count": 18,
     "metadata": {},
     "output_type": "execute_result"
    }
   ],
   "source": [
    "distance(colors['red'], colors['green']) > distance(colors['red'], colors['pink'])"
   ]
  },
  {
   "cell_type": "markdown",
   "metadata": {},
   "source": [
    "### Finding the closest item\n",
    "\n",
    "Just as we wanted to find the animal that most closely matched an arbitrary point in cuteness/size space, we'll want to find the closest color name to an arbitrary point in RGB space. The easiest way to find the closest item to an arbitrary vector is simply to find the distance between the target vector and each item in the space, in turn, then sort the list from closest to farthest. The `closest()` function below does just that. By default, it returns a list of the ten closest items to the given vector.\n",
    "\n",
    "> Note: Calculating \"closest neighbors\" like this is fine for the examples in this notebook, but unmanageably slow for vector spaces of any appreciable size. As your vector space grows, you'll want to move to a faster solution, like SciPy's [kdtree](https://docs.scipy.org/doc/scipy-0.14.0/reference/generated/scipy.spatial.KDTree.html) or [Annoy](https://pypi.python.org/pypi/annoy)."
   ]
  },
  {
   "cell_type": "code",
   "execution_count": 19,
   "metadata": {
    "collapsed": true
   },
   "outputs": [],
   "source": [
    "def closest(space, coord, n=10):\n",
    "    closest = []\n",
    "    for key in sorted(space.keys(),\n",
    "                        key=lambda x: distance(coord, space[x]))[:n]:\n",
    "        closest.append(key)\n",
    "    return closest"
   ]
  },
  {
   "cell_type": "markdown",
   "metadata": {},
   "source": [
    "Testing it out, we can find the ten colors closest to \"red\":"
   ]
  },
  {
   "cell_type": "code",
   "execution_count": 20,
   "metadata": {
    "scrolled": false
   },
   "outputs": [
    {
     "data": {
      "text/plain": [
       "['red',\n",
       " 'fire engine red',\n",
       " 'bright red',\n",
       " 'tomato red',\n",
       " 'cherry red',\n",
       " 'scarlet',\n",
       " 'vermillion',\n",
       " 'orangish red',\n",
       " 'cherry',\n",
       " 'lipstick red']"
      ]
     },
     "execution_count": 20,
     "metadata": {},
     "output_type": "execute_result"
    }
   ],
   "source": [
    "closest(colors, colors['red'])"
   ]
  },
  {
   "cell_type": "markdown",
   "metadata": {},
   "source": [
    "... or the ten colors closest to (150, 60, 150):"
   ]
  },
  {
   "cell_type": "code",
   "execution_count": 21,
   "metadata": {
    "scrolled": false
   },
   "outputs": [
    {
     "data": {
      "text/plain": [
       "['warm purple',\n",
       " 'medium purple',\n",
       " 'ugly purple',\n",
       " 'light eggplant',\n",
       " 'purpleish',\n",
       " 'purplish',\n",
       " 'purply',\n",
       " 'light plum',\n",
       " 'purple',\n",
       " 'muted purple']"
      ]
     },
     "execution_count": 21,
     "metadata": {},
     "output_type": "execute_result"
    }
   ],
   "source": [
    "closest(colors, [150, 60, 150])"
   ]
  },
  {
   "cell_type": "markdown",
   "metadata": {},
   "source": [
    "### Color magic\n",
    "\n",
    "The magical part of representing words as vectors is that the vector operations we defined earlier appear to operate on language the same way they operate on numbers. For example, if we find the word closest to the vector resulting from subtracting \"red\" from \"purple,\" we get a series of \"blue\" colors:"
   ]
  },
  {
   "cell_type": "code",
   "execution_count": 22,
   "metadata": {},
   "outputs": [
    {
     "data": {
      "text/plain": [
       "['darker blue',\n",
       " 'cobalt blue',\n",
       " 'royal blue',\n",
       " 'darkish blue',\n",
       " 'true blue',\n",
       " 'royal',\n",
       " 'prussian blue',\n",
       " 'dark royal blue',\n",
       " 'deep blue',\n",
       " 'marine blue']"
      ]
     },
     "execution_count": 22,
     "metadata": {},
     "output_type": "execute_result"
    }
   ],
   "source": [
    "closest(colors, subtractv(colors['purple'], colors['red']))"
   ]
  },
  {
   "cell_type": "markdown",
   "metadata": {},
   "source": [
    "This matches our intuition about RGB colors, which is that purple is a combination of red and blue. Take away the red, and blue is all you have left.\n",
    "\n",
    "You can do something similar with addition. What's blue plus green?"
   ]
  },
  {
   "cell_type": "code",
   "execution_count": 23,
   "metadata": {},
   "outputs": [
    {
     "data": {
      "text/plain": [
       "['bright turquoise',\n",
       " 'bright light blue',\n",
       " 'bright aqua',\n",
       " 'cyan',\n",
       " 'neon blue',\n",
       " 'aqua blue',\n",
       " 'bright cyan',\n",
       " 'bright sky blue',\n",
       " 'aqua',\n",
       " 'bright teal']"
      ]
     },
     "execution_count": 23,
     "metadata": {},
     "output_type": "execute_result"
    }
   ],
   "source": [
    "closest(colors, addv(colors['blue'], colors['green']))"
   ]
  },
  {
   "cell_type": "markdown",
   "metadata": {},
   "source": [
    "That's right, it's something like turquoise or cyan! What if we find the average of black and white? Predictably, we get gray:"
   ]
  },
  {
   "cell_type": "code",
   "execution_count": 24,
   "metadata": {},
   "outputs": [
    {
     "data": {
      "text/plain": [
       "['medium grey',\n",
       " 'purple grey',\n",
       " 'steel grey',\n",
       " 'battleship grey',\n",
       " 'grey purple',\n",
       " 'purplish grey',\n",
       " 'greyish purple',\n",
       " 'steel',\n",
       " 'warm grey',\n",
       " 'green grey']"
      ]
     },
     "execution_count": 24,
     "metadata": {},
     "output_type": "execute_result"
    }
   ],
   "source": [
    "# the average of black and white: medium grey\n",
    "closest(colors, meanv([colors['black'], colors['white']]))"
   ]
  },
  {
   "cell_type": "markdown",
   "metadata": {},
   "source": [
    "Just as with the tarantula/hamster example from the previous section, we can use color vectors to reason about relationships between colors. In the cell below, finding the difference between \"pink\" and \"red\" then adding it to \"blue\" seems to give us a list of colors that are to blue what pink is to red (i.e., a slightly lighter, less saturated shade):"
   ]
  },
  {
   "cell_type": "code",
   "execution_count": 25,
   "metadata": {},
   "outputs": [
    {
     "data": {
      "text/plain": [
       "['neon blue',\n",
       " 'bright sky blue',\n",
       " 'bright light blue',\n",
       " 'cyan',\n",
       " 'bright cyan',\n",
       " 'bright turquoise',\n",
       " 'clear blue',\n",
       " 'azure',\n",
       " 'dodger blue',\n",
       " 'lightish blue']"
      ]
     },
     "execution_count": 25,
     "metadata": {},
     "output_type": "execute_result"
    }
   ],
   "source": [
    "# an analogy: pink is to red as X is to blue\n",
    "pink_to_red = subtractv(colors['pink'], colors['red'])\n",
    "closest(colors, addv(pink_to_red, colors['blue']))"
   ]
  },
  {
   "cell_type": "markdown",
   "metadata": {},
   "source": [
    "Another example of color analogies: Navy is to blue as true green/dark grass green is to green:"
   ]
  },
  {
   "cell_type": "code",
   "execution_count": 26,
   "metadata": {},
   "outputs": [
    {
     "data": {
      "text/plain": [
       "['darker green',\n",
       " 'true green',\n",
       " 'dark grass green',\n",
       " 'grassy green',\n",
       " 'racing green',\n",
       " 'forest',\n",
       " 'bottle green',\n",
       " 'dark olive green',\n",
       " 'darkgreen',\n",
       " 'forrest green']"
      ]
     },
     "execution_count": 26,
     "metadata": {},
     "output_type": "execute_result"
    }
   ],
   "source": [
    "# another example: \n",
    "navy_to_blue = subtractv(colors['navy'], colors['blue'])\n",
    "closest(colors, addv(navy_to_blue, colors['green']))"
   ]
  },
  {
   "cell_type": "markdown",
   "metadata": {},
   "source": [
    "The examples above are fairly simple from a mathematical perspective but nevertheless *feel* magical: they're demonstrating that it's possible to use math to reason about how people use language."
   ]
  },
  {
   "cell_type": "markdown",
   "metadata": {},
   "source": [
    "### Interlude: A Love Poem That Loses Its Way"
   ]
  },
  {
   "cell_type": "code",
   "execution_count": 27,
   "metadata": {},
   "outputs": [
    {
     "ename": "SyntaxError",
     "evalue": "Missing parentheses in call to 'print'. Did you mean print(...)? (704457022.py, line 7)",
     "output_type": "error",
     "traceback": [
      "\u001b[1;36m  Input \u001b[1;32mIn [27]\u001b[1;36m\u001b[0m\n\u001b[1;33m    print \"Roses are \" + rednames[0] + \", violets are \" + bluenames[0]\u001b[0m\n\u001b[1;37m    ^\u001b[0m\n\u001b[1;31mSyntaxError\u001b[0m\u001b[1;31m:\u001b[0m Missing parentheses in call to 'print'. Did you mean print(...)?\n"
     ]
    }
   ],
   "source": [
    "import random\n",
    "red = colors['red']\n",
    "blue = colors['blue']\n",
    "for i in range(14):\n",
    "    rednames = closest(colors, red)\n",
    "    bluenames = closest(colors, blue)\n",
    "    print \"Roses are \" + rednames[0] + \", violets are \" + bluenames[0]\n",
    "    red = colors[random.choice(rednames[1:])]\n",
    "    blue = colors[random.choice(bluenames[1:])]"
   ]
  },
  {
   "cell_type": "markdown",
   "metadata": {},
   "source": [
    "### Doing bad digital humanities with color vectors\n",
    "\n",
    "With the tools above in hand, we can start using our vectorized knowledge of language toward academic ends. In the following example, I'm going to calculate the average color of Bram Stoker's *Dracula*.\n",
    "\n",
    "(Before you proceed, make sure to [download the text file from Project Gutenberg](http://www.gutenberg.org/cache/epub/345/pg345.txt) and place it in the same directory as this notebook.)\n",
    "\n",
    "First, we'll load [spaCy](https://spacy.io/):"
   ]
  },
  {
   "cell_type": "code",
   "execution_count": null,
   "metadata": {
    "collapsed": true
   },
   "outputs": [],
   "source": [
    "import spacy\n",
    "nlp = spacy.load('en')"
   ]
  },
  {
   "cell_type": "markdown",
   "metadata": {},
   "source": [
    "To calculate the average color, we'll follow these steps:\n",
    "\n",
    "1. Parse the text into words\n",
    "2. Check every word to see if it names a color in our vector space. If it does, add it to a list of vectors.\n",
    "3. Find the average of that list of vectors.\n",
    "4. Find the color(s) closest to that average vector.\n",
    "\n",
    "The following cell performs steps 1-3:"
   ]
  },
  {
   "cell_type": "code",
   "execution_count": null,
   "metadata": {},
   "outputs": [
    {
     "name": "stdout",
     "output_type": "stream",
     "text": [
      "[147.44839067702551, 113.65371809100999, 100.13540510543841]\n"
     ]
    }
   ],
   "source": [
    "doc = nlp(open(\"pg345.txt\").read().decode('utf8'))\n",
    "# use word.lower_ to normalize case\n",
    "drac_colors = [colors[word.lower_] for word in doc if word.lower_ in colors]\n",
    "avg_color = meanv(drac_colors)\n",
    "print avg_color"
   ]
  },
  {
   "cell_type": "markdown",
   "metadata": {},
   "source": [
    "Now, we'll pass the averaged color vector to the `closest()` function, yielding... well, it's just a brown mush, which is kinda what you'd expect from adding a bunch of colors together willy-nilly."
   ]
  },
  {
   "cell_type": "code",
   "execution_count": null,
   "metadata": {},
   "outputs": [
    {
     "data": {
      "text/plain": [
       "[u'reddish grey',\n",
       " u'brownish grey',\n",
       " u'brownish',\n",
       " u'brown grey',\n",
       " u'mocha',\n",
       " u'grey brown',\n",
       " u'puce',\n",
       " u'dull brown',\n",
       " u'pinkish brown',\n",
       " u'dark taupe']"
      ]
     },
     "execution_count": 371,
     "metadata": {},
     "output_type": "execute_result"
    }
   ],
   "source": [
    "closest(colors, avg_color)"
   ]
  },
  {
   "cell_type": "markdown",
   "metadata": {},
   "source": [
    "On the other hand, here's what we get when we average the colors of Charlotte Perkins Gilman's classic *The Yellow Wallpaper*. ([Download from here](http://www.gutenberg.org/cache/epub/1952/pg1952.txt) and save in the same directory as this notebook if you want to follow along.) The result definitely reflects the content of the story, so maybe we're on to something here."
   ]
  },
  {
   "cell_type": "code",
   "execution_count": null,
   "metadata": {},
   "outputs": [
    {
     "data": {
      "text/plain": [
       "[u'sickly yellow',\n",
       " u'piss yellow',\n",
       " u'puke yellow',\n",
       " u'vomit yellow',\n",
       " u'dirty yellow',\n",
       " u'mustard yellow',\n",
       " u'dark yellow',\n",
       " u'olive yellow',\n",
       " u'macaroni and cheese',\n",
       " u'pea']"
      ]
     },
     "execution_count": 369,
     "metadata": {},
     "output_type": "execute_result"
    }
   ],
   "source": [
    "doc = nlp(open(\"pg1952.txt\").read().decode('utf8'))\n",
    "wallpaper_colors = [colors[word.lower_] for word in doc if word.lower_ in colors]\n",
    "avg_color = meanv(wallpaper_colors)\n",
    "closest(colors, avg_color)"
   ]
  },
  {
   "cell_type": "markdown",
   "metadata": {},
   "source": [
    "Exercise for the reader: Use the vector arithmetic functions to rewrite a text, making it...\n",
    "\n",
    "* more blue (i.e., add `colors['blue']` to each occurrence of a color word); or\n",
    "* more light (i.e., add `colors['white']` to each occurrence of a color word); or\n",
    "* darker (i.e., attenuate each color. You might need to write a vector multiplication function to do this one right.)"
   ]
  },
  {
   "cell_type": "markdown",
   "metadata": {},
   "source": [
    "## Distributional semantics\n",
    "\n",
    "In the previous section, the examples are interesting because of a simple fact: colors that we think of as similar are \"closer\" to each other in RGB vector space. In our color vector space, or in our animal cuteness/size space, you can think of the words identified by vectors close to each other as being *synonyms*, in a sense: they sort of \"mean\" the same thing. They're also, for many purposes, *functionally identical*. Think of this in terms of writing, say, a search engine. If someone searches for \"mauve trousers,\" then it's probably also okay to show them results for, say,"
   ]
  },
  {
   "cell_type": "code",
   "execution_count": null,
   "metadata": {},
   "outputs": [
    {
     "name": "stdout",
     "output_type": "stream",
     "text": [
      "mauve trousers\n",
      "dusty rose trousers\n",
      "dusky rose trousers\n",
      "brownish pink trousers\n",
      "old pink trousers\n",
      "reddish grey trousers\n",
      "dirty pink trousers\n",
      "old rose trousers\n",
      "light plum trousers\n",
      "ugly pink trousers\n"
     ]
    }
   ],
   "source": [
    "for cname in closest(colors, colors['mauve']):\n",
    "    print cname + \" trousers\""
   ]
  },
  {
   "cell_type": "markdown",
   "metadata": {},
   "source": [
    "That's all well and good for color words, which intuitively seem to exist in a multidimensional continuum of perception, and for our animal space, where we've written out the vectors ahead of time. But what about... arbitrary words? Is it possible to create a vector space for all English words that has this same \"closer in space is closer in meaning\" property?\n",
    "\n",
    "To answer that, we have to back up a bit and ask the question: what does *meaning* mean? No one really knows, but one theory popular among computational linguists, computer scientists and other people who make search engines is the [Distributional Hypothesis](https://en.wikipedia.org/wiki/Distributional_semantics), which states that:\n",
    "\n",
    "    Linguistic items with similar distributions have similar meanings.\n",
    "    \n",
    "What's meant by \"similar distributions\" is *similar contexts*. Take for example the following sentences:\n",
    "\n",
    "    It was really cold yesterday.\n",
    "    It will be really warm today, though.\n",
    "    It'll be really hot tomorrow!\n",
    "    Will it be really cool Tuesday?\n",
    "    \n",
    "According to the Distributional Hypothesis, the words `cold`, `warm`, `hot` and `cool` must be related in some way (i.e., be close in meaning) because they occur in a similar context, i.e., between the word \"really\" and a word indicating a particular day. (Likewise, the words `yesterday`, `today`, `tomorrow` and `Tuesday` must be related, since they occur in the context of a word indicating a temperature.)\n",
    "\n",
    "In other words, according to the Distributional Hypothesis, a word's meaning is just a big list of all the contexts it occurs in. Two words are closer in meaning if they share contexts."
   ]
  },
  {
   "attachments": {},
   "cell_type": "markdown",
   "metadata": {},
   "source": [
    "## Word vectors by counting contexts\n",
    "\n",
    "So how do we turn this insight from the Distributional Hypothesis into a system for creating general-purpose vectors that capture the meaning of words? Maybe you can see where I'm going with this. What if we made a *really big* spreadsheet that had one column for every context for every word in a given source text. Let's use a small source text to begin with, such as this excerpt from Dickens:\n",
    "\n",
    "    It was the best of times, it was the worst of times.\n",
    "\n",
    "Such a spreadsheet might look something like this:\n",
    "\n",
    "![dickens contexts](http://static.decontextualize.com/snaps/best-of-times.png)\n",
    "\n",
    "The spreadsheet has one column for every possible context, and one row for every word. The values in each cell correspond with how many times the word occurs in the given context. The numbers in the columns constitute that word's vector, i.e., the vector for the word `of` is\n",
    "\n",
    "    [0, 0, 0, 0, 1, 0, 0, 0, 1, 0]\n",
    "    \n",
    "Because there are ten possible contexts, this is a ten dimensional space! It might be strange to think of it, but you can do vector arithmetic on vectors with ten dimensions just as easily as you can on vectors with two or three dimensions, and you could use the same distance formula that we defined earlier to get useful information about which vectors in this space are similar to each other. In particular, the vectors for `best` and `worst` are actually the same (a distance of zero), since they occur only in the same context (`the ___ of`):\n",
    "\n",
    "    [0, 0, 0, 1, 0, 0, 0, 0, 0, 0]\n",
    "    \n",
    "Of course, the conventional way of thinking about \"best\" and \"worst\" is that they're *antonyms*, not *synonyms*. But they're also clearly two words of the same kind, with related meanings (through opposition), a fact that is captured by this distributional model.\n",
    "\n",
    "### Contexts and dimensionality\n",
    "\n",
    "Of course, in a corpus of any reasonable size, there will be many thousands if not many millions of possible contexts. It's difficult enough working with a vector space of ten dimensions, let alone a vector space of a million dimensions! It turns out, though, that many of the dimensions end up being superfluous and can either be eliminated or combined with other dimensions without significantly affecting the predictive power of the resulting vectors. The process of getting rid of superfluous dimensions in a vector space is called [dimensionality reduction](https://en.wikipedia.org/wiki/Dimensionality_reduction), and most implementations of count-based word vectors make use of dimensionality reduction so that the resulting vector space has a reasonable number of dimensions (say, 100—300, depending on the corpus and application).\n",
    "\n",
    "The question of how to identify a \"context\" is itself very difficult to answer. In the toy example above, we've said that a \"context\" is just the word that precedes and the word that follows. Depending on your implementation of this procedure, though, you might want a context with a bigger \"window\" (e.g., two words before and after), or a non-contiguous window (skip a word before and after the given word). You might exclude certain \"function\" words like \"the\" and \"of\" when determining a word's context, or you might [lemmatize](https://en.wikipedia.org/wiki/Lemmatisation) the words before you begin your analysis, so two occurrences with different \"forms\" of the same word count as the same context. These are all questions open to research and debate, and different implementations of procedures for creating count-based word vectors make different decisions on this issue.\n",
    "\n",
    "### GloVe vectors\n",
    "\n",
    "But you don't have to create your own word vectors from scratch! Many researchers have made downloadable databases of pre-trained vectors. One such project is Stanford's [Global Vectors for Word Representation (GloVe)](https://nlp.stanford.edu/projects/glove/). These 300-dimensional vectors are included with spaCy, and they're the vectors we'll be using for the rest of this tutorial."
   ]
  },
  {
   "cell_type": "markdown",
   "metadata": {},
   "source": [
    "## Word vectors in spaCy\n",
    "\n",
    "Okay, let's have some fun with real word vectors. We're going to use the GloVe vectors that come with spaCy to creatively analyze and manipulate the text of Bram Stoker's *Dracula*. First, make sure you've got `spacy` imported:"
   ]
  },
  {
   "cell_type": "code",
   "execution_count": null,
   "metadata": {
    "collapsed": true
   },
   "outputs": [],
   "source": [
    "from __future__ import unicode_literals\n",
    "import spacy"
   ]
  },
  {
   "cell_type": "markdown",
   "metadata": {},
   "source": [
    "The following cell loads the language model and parses the input text:"
   ]
  },
  {
   "cell_type": "code",
   "execution_count": null,
   "metadata": {},
   "outputs": [],
   "source": [
    "nlp = spacy.load('en')\n",
    "doc = nlp(open(\"pg345.txt\").read().decode('utf8'))"
   ]
  },
  {
   "cell_type": "markdown",
   "metadata": {},
   "source": [
    "And the cell below creates a list of unique words (or tokens) in the text, as a list of strings."
   ]
  },
  {
   "cell_type": "code",
   "execution_count": null,
   "metadata": {
    "collapsed": true
   },
   "outputs": [],
   "source": [
    "# all of the words in the text file\n",
    "tokens = list(set([w.text for w in doc if w.is_alpha]))"
   ]
  },
  {
   "cell_type": "markdown",
   "metadata": {},
   "source": [
    "You can see the vector of any word in spaCy's vocabulary using the `vocab` attribute, like so:"
   ]
  },
  {
   "cell_type": "code",
   "execution_count": null,
   "metadata": {
    "scrolled": true
   },
   "outputs": [
    {
     "data": {
      "text/plain": [
       "array([ -5.52519977e-01,   1.88940004e-01,   6.87370002e-01,\n",
       "        -1.97889999e-01,   7.05749989e-02,   1.00750005e+00,\n",
       "         5.17890006e-02,  -1.56029999e-01,   3.19409996e-01,\n",
       "         1.17019999e+00,  -4.72479999e-01,   4.28669989e-01,\n",
       "        -4.20249999e-01,   2.48030007e-01,   6.81940019e-01,\n",
       "        -6.74880028e-01,   9.24009979e-02,   1.30890000e+00,\n",
       "        -3.62779982e-02,   2.00979993e-01,   7.60049999e-01,\n",
       "        -6.67179972e-02,  -7.77940005e-02,   2.38440007e-01,\n",
       "        -2.43509993e-01,  -5.41639984e-01,  -3.35399985e-01,\n",
       "         2.98049986e-01,   3.52690011e-01,  -8.05939972e-01,\n",
       "        -4.36109990e-01,   6.15350008e-01,   3.42119992e-01,\n",
       "        -3.36030006e-01,   3.32819998e-01,   3.80650014e-01,\n",
       "         5.74270003e-02,   9.99180004e-02,   1.25249997e-01,\n",
       "         1.10389996e+00,   3.66780013e-02,   3.04899991e-01,\n",
       "        -1.49419993e-01,   3.29120010e-01,   2.32999995e-01,\n",
       "         4.33950007e-01,   1.56660005e-01,   2.27779999e-01,\n",
       "        -2.58300006e-02,   2.43340001e-01,  -5.81360012e-02,\n",
       "        -1.34859994e-01,   2.45210007e-01,  -3.34589988e-01,\n",
       "         4.28389996e-01,  -4.81810004e-01,   1.34029999e-01,\n",
       "         2.60490000e-01,   8.99330005e-02,  -9.37699974e-02,\n",
       "         3.76720011e-01,  -2.95579992e-02,   4.38410014e-01,\n",
       "         6.12119973e-01,  -2.57200003e-01,  -7.85059988e-01,\n",
       "         2.38800004e-01,   1.33990005e-01,  -7.93149993e-02,\n",
       "         7.05820024e-01,   3.99679989e-01,   6.77789986e-01,\n",
       "        -2.04739999e-03,   1.97850000e-02,  -4.20590013e-01,\n",
       "        -5.38580000e-01,  -5.21549992e-02,   1.72519997e-01,\n",
       "         2.75469989e-01,  -4.44819987e-01,   2.35949993e-01,\n",
       "        -2.34449998e-01,   3.01030010e-01,  -5.50960004e-01,\n",
       "        -3.11590005e-02,  -3.44330013e-01,   1.23860002e+00,\n",
       "         1.03170002e+00,  -2.27280006e-01,  -9.52070020e-03,\n",
       "        -2.54319996e-01,  -2.97919989e-01,   2.59339988e-01,\n",
       "        -1.04209997e-01,  -3.38759989e-01,   4.24699992e-01,\n",
       "         5.83350018e-04,   1.30930007e-01,   2.87860006e-01,\n",
       "         2.34740004e-01,   2.59050000e-02,  -6.43589973e-01,\n",
       "         6.13300018e-02,   6.38419986e-01,   1.47049993e-01,\n",
       "        -6.15939975e-01,   2.50970006e-01,  -4.48720008e-01,\n",
       "         8.68250012e-01,   9.95550007e-02,  -4.47340012e-02,\n",
       "        -7.42389977e-01,  -5.91470003e-01,  -5.49290001e-01,\n",
       "         3.81080002e-01,   5.51769994e-02,  -1.04869999e-01,\n",
       "        -1.28380001e-01,   6.05210010e-03,   2.87429988e-01,\n",
       "         2.15920001e-01,   7.28709996e-02,  -3.16439986e-01,\n",
       "        -4.33209985e-01,   1.86820000e-01,   6.72739968e-02,\n",
       "         2.81150013e-01,  -4.62220013e-02,  -9.68030021e-02,\n",
       "         5.60909986e-01,  -6.77619994e-01,  -1.66449994e-01,\n",
       "         1.55530006e-01,   5.23010015e-01,  -3.00579995e-01,\n",
       "        -3.72909993e-01,   8.78949985e-02,  -1.79629996e-01,\n",
       "        -4.41929996e-01,  -4.46069986e-01,  -2.41219997e+00,\n",
       "         3.37379992e-01,   6.24159992e-01,   4.27870005e-01,\n",
       "        -2.53859997e-01,  -6.16829991e-01,  -7.00969994e-01,\n",
       "         4.93030012e-01,   3.69159997e-01,  -9.74989980e-02,\n",
       "         6.14109993e-01,  -4.75719990e-03,   4.39159989e-01,\n",
       "        -2.15509996e-01,  -5.67449987e-01,  -4.02779996e-01,\n",
       "         2.94589996e-01,  -3.08499992e-01,   1.01030000e-01,\n",
       "         7.97410011e-02,  -6.38109982e-01,   2.47810006e-01,\n",
       "        -4.45459992e-01,   1.08280003e-01,  -2.36240000e-01,\n",
       "        -5.08379996e-01,  -1.70010000e-01,  -7.87349999e-01,\n",
       "         3.40730011e-01,  -3.18300009e-01,   4.52859998e-01,\n",
       "        -9.51180011e-02,   2.07719997e-01,  -8.01829994e-02,\n",
       "        -3.79819989e-01,  -4.99489993e-01,   4.07590009e-02,\n",
       "        -3.77240002e-01,  -8.97049978e-02,  -6.81869984e-01,\n",
       "         2.21059993e-01,  -3.99309993e-01,   3.23289990e-01,\n",
       "        -3.61799985e-01,  -7.20929980e-01,  -6.34039998e-01,\n",
       "         4.31250006e-01,  -4.97429997e-01,  -1.73950002e-01,\n",
       "        -3.87789994e-01,  -3.25560004e-01,   1.44229993e-01,\n",
       "        -8.34010020e-02,  -2.29939997e-01,   2.77929991e-01,\n",
       "         4.91120011e-01,   6.45110011e-01,  -7.89450034e-02,\n",
       "         1.11709997e-01,   3.72640014e-01,   1.30700007e-01,\n",
       "        -6.16069995e-02,  -4.35009986e-01,   2.89990008e-02,\n",
       "         5.62240005e-01,   5.80120012e-02,   4.70779985e-02,\n",
       "         4.27700013e-01,   7.32450008e-01,  -2.11500004e-02,\n",
       "         1.19879998e-01,   7.88230002e-02,  -1.91060007e-01,\n",
       "         3.52779999e-02,  -3.11019987e-01,   1.32090002e-01,\n",
       "        -2.86060005e-01,  -1.56489998e-01,  -6.43390000e-01,\n",
       "         4.45989996e-01,  -3.09119999e-01,   4.45199996e-01,\n",
       "        -3.67740005e-01,   2.73270011e-01,   6.78330004e-01,\n",
       "        -8.38299990e-02,  -4.51200008e-01,   1.07539997e-01,\n",
       "        -4.59080011e-01,   1.50950000e-01,  -4.58559990e-01,\n",
       "         3.44650000e-01,   7.80130029e-02,  -2.83190012e-01,\n",
       "        -2.81489994e-02,   2.44039997e-01,  -7.13450015e-01,\n",
       "         5.28340004e-02,  -2.80849993e-01,   2.53439993e-02,\n",
       "         4.29789983e-02,   1.56629995e-01,  -7.46469975e-01,\n",
       "        -1.13010001e+00,   4.41350013e-01,   3.14440012e-01,\n",
       "        -1.00180000e-01,  -5.35260022e-01,  -9.06009972e-01,\n",
       "        -6.49540007e-01,   4.26639989e-02,  -7.99269974e-02,\n",
       "         3.29050004e-01,  -3.07969987e-01,  -1.91900004e-02,\n",
       "         4.27650005e-01,   3.14599991e-01,   2.90509999e-01,\n",
       "        -2.73860008e-01,   6.84830010e-01,   1.93949994e-02,\n",
       "        -3.28839988e-01,  -4.82389987e-01,  -1.57470003e-01,\n",
       "        -1.60359994e-01,   4.91640002e-01,  -7.03520000e-01,\n",
       "        -3.55910003e-01,  -7.48870015e-01,  -5.28270006e-01,\n",
       "         4.49829996e-02,   5.92469983e-02,   4.62240010e-01,\n",
       "         8.96970034e-02,  -7.56179988e-01,   6.36820018e-01,\n",
       "         9.06800032e-02,   6.88299984e-02,   1.82960004e-01,\n",
       "         1.07539997e-01,   6.78110003e-01,  -1.47159994e-01,\n",
       "         1.70289993e-01,  -5.26300013e-01,   1.92680001e-01,\n",
       "         9.31299984e-01,   8.03629994e-01,   6.13240004e-01,\n",
       "        -3.04939985e-01,   2.02360004e-01,   5.85200012e-01,\n",
       "         2.64840007e-01,  -4.58629996e-01,   2.10350007e-03,\n",
       "        -5.69899976e-01,  -4.90920007e-01,   4.25110012e-01,\n",
       "        -1.09539998e+00,   1.71240002e-01,   2.24950001e-01], dtype=float32)"
      ]
     },
     "execution_count": 385,
     "metadata": {},
     "output_type": "execute_result"
    }
   ],
   "source": [
    "nlp.vocab['cheese'].vector"
   ]
  },
  {
   "cell_type": "markdown",
   "metadata": {},
   "source": [
    "For the sake of convenience, the following function gets the vector of a given string from spaCy's vocabulary:"
   ]
  },
  {
   "cell_type": "code",
   "execution_count": null,
   "metadata": {
    "collapsed": true
   },
   "outputs": [],
   "source": [
    "def vec(s):\n",
    "    return nlp.vocab[s].vector"
   ]
  },
  {
   "cell_type": "markdown",
   "metadata": {},
   "source": [
    "### Cosine similarity and finding closest neighbors\n",
    "\n",
    "The cell below defines a function `cosine()`, which returns the [cosine similarity](https://en.wikipedia.org/wiki/Cosine_similarity) of two vectors. Cosine similarity is another way of determining how similar two vectors are, which is more suited to high-dimensional spaces. [See the Encyclopedia of Distances for more information and even more ways of determining vector similarity.](http://www.uco.es/users/ma1fegan/Comunes/asignaturas/vision/Encyclopedia-of-distances-2009.pdf)\n",
    "\n",
    "(You'll need to install `numpy` to get this to work. If you haven't already: `pip install numpy`. Use `sudo` if you need to and make sure you've upgraded to the most recent version of `pip` with `sudo pip install --upgrade pip`.)"
   ]
  },
  {
   "cell_type": "code",
   "execution_count": null,
   "metadata": {
    "collapsed": true
   },
   "outputs": [],
   "source": [
    "import numpy as np\n",
    "from numpy import dot\n",
    "from numpy.linalg import norm\n",
    "\n",
    "# cosine similarity\n",
    "def cosine(v1, v2):\n",
    "    if norm(v1) > 0 and norm(v2) > 0:\n",
    "        return dot(v1, v2) / (norm(v1) * norm(v2))\n",
    "    else:\n",
    "        return 0.0"
   ]
  },
  {
   "cell_type": "markdown",
   "metadata": {},
   "source": [
    "The following cell shows that the cosine similarity between `dog` and `puppy` is larger than the similarity between `trousers` and `octopus`, thereby demonstrating that the vectors are working how we expect them to:"
   ]
  },
  {
   "cell_type": "code",
   "execution_count": null,
   "metadata": {
    "scrolled": false
   },
   "outputs": [
    {
     "data": {
      "text/plain": [
       "True"
      ]
     },
     "execution_count": 389,
     "metadata": {},
     "output_type": "execute_result"
    }
   ],
   "source": [
    "cosine(vec('dog'), vec('puppy')) > cosine(vec('trousers'), vec('octopus'))"
   ]
  },
  {
   "cell_type": "markdown",
   "metadata": {},
   "source": [
    "The following cell defines a function that iterates through a list of tokens and returns the token whose vector is most similar to a given vector."
   ]
  },
  {
   "cell_type": "code",
   "execution_count": null,
   "metadata": {
    "collapsed": true
   },
   "outputs": [],
   "source": [
    "def spacy_closest(token_list, vec_to_check, n=10):\n",
    "    return sorted(token_list,\n",
    "                  key=lambda x: cosine(vec_to_check, vec(x)),\n",
    "                  reverse=True)[:n]"
   ]
  },
  {
   "cell_type": "markdown",
   "metadata": {},
   "source": [
    "Using this function, we can get a list of synonyms, or words closest in meaning (or distribution, depending on how you look at it), to any arbitrary word in spaCy's vocabulary. In the following example, we're finding the words in *Dracula* closest to \"basketball\":"
   ]
  },
  {
   "cell_type": "code",
   "execution_count": null,
   "metadata": {
    "scrolled": true
   },
   "outputs": [
    {
     "data": {
      "text/plain": [
       "[u'tennis',\n",
       " u'coach',\n",
       " u'game',\n",
       " u'teams',\n",
       " u'Junior',\n",
       " u'junior',\n",
       " u'Team',\n",
       " u'school',\n",
       " u'boys',\n",
       " u'leagues']"
      ]
     },
     "execution_count": 391,
     "metadata": {},
     "output_type": "execute_result"
    }
   ],
   "source": [
    "# what's the closest equivalent of basketball?\n",
    "spacy_closest(tokens, vec(\"basketball\"))"
   ]
  },
  {
   "cell_type": "markdown",
   "metadata": {},
   "source": [
    "### Fun with spaCy, Dracula, and vector arithmetic\n",
    "\n",
    "Now we can start doing vector arithmetic and finding the closest words to the resulting vectors. For example, what word is closest to the halfway point between day and night?"
   ]
  },
  {
   "cell_type": "code",
   "execution_count": null,
   "metadata": {},
   "outputs": [
    {
     "data": {
      "text/plain": [
       "[u'night',\n",
       " u'day',\n",
       " u'Day',\n",
       " u'evening',\n",
       " u'Evening',\n",
       " u'Morning',\n",
       " u'morning',\n",
       " u'afternoon',\n",
       " u'Nights',\n",
       " u'nights']"
      ]
     },
     "execution_count": 393,
     "metadata": {},
     "output_type": "execute_result"
    }
   ],
   "source": [
    "# halfway between day and night\n",
    "spacy_closest(tokens, meanv([vec(\"day\"), vec(\"night\")]))"
   ]
  },
  {
   "cell_type": "markdown",
   "metadata": {},
   "source": [
    "Variations of `night` and `day` are still closest, but after that we get words like `evening` and `morning`, which are indeed halfway between day and night!"
   ]
  },
  {
   "cell_type": "markdown",
   "metadata": {},
   "source": [
    "Here are the closest words in _Dracula_ to \"wine\":"
   ]
  },
  {
   "cell_type": "code",
   "execution_count": null,
   "metadata": {},
   "outputs": [
    {
     "data": {
      "text/plain": [
       "[u'wine',\n",
       " u'beer',\n",
       " u'bottle',\n",
       " u'Drink',\n",
       " u'drink',\n",
       " u'fruit',\n",
       " u'bottles',\n",
       " u'taste',\n",
       " u'coffee',\n",
       " u'tasted']"
      ]
     },
     "execution_count": 395,
     "metadata": {},
     "output_type": "execute_result"
    }
   ],
   "source": [
    "spacy_closest(tokens, vec(\"wine\"))"
   ]
  },
  {
   "cell_type": "markdown",
   "metadata": {},
   "source": [
    "If you subtract \"alcohol\" from \"wine\" and find the closest words to the resulting vector, you're left with simply a lovely dinner:"
   ]
  },
  {
   "cell_type": "code",
   "execution_count": null,
   "metadata": {},
   "outputs": [
    {
     "data": {
      "text/plain": [
       "[u'wine',\n",
       " u'Dinner',\n",
       " u'dinner',\n",
       " u'lovely',\n",
       " u'delicious',\n",
       " u'salad',\n",
       " u'treasure',\n",
       " u'wonderful',\n",
       " u'Wonderful',\n",
       " u'cheese']"
      ]
     },
     "execution_count": 397,
     "metadata": {},
     "output_type": "execute_result"
    }
   ],
   "source": [
    "spacy_closest(tokens, subtractv(vec(\"wine\"), vec(\"alcohol\")))"
   ]
  },
  {
   "cell_type": "markdown",
   "metadata": {},
   "source": [
    "The closest words to \"water\":"
   ]
  },
  {
   "cell_type": "code",
   "execution_count": null,
   "metadata": {},
   "outputs": [
    {
     "data": {
      "text/plain": [
       "[u'water',\n",
       " u'waters',\n",
       " u'salt',\n",
       " u'Salt',\n",
       " u'dry',\n",
       " u'liquid',\n",
       " u'ocean',\n",
       " u'boiling',\n",
       " u'heat',\n",
       " u'sand']"
      ]
     },
     "execution_count": 398,
     "metadata": {},
     "output_type": "execute_result"
    }
   ],
   "source": [
    "spacy_closest(tokens, vec(\"water\"))"
   ]
  },
  {
   "cell_type": "markdown",
   "metadata": {},
   "source": [
    "But if you add \"frozen\" to \"water,\" you get \"ice\":"
   ]
  },
  {
   "cell_type": "code",
   "execution_count": null,
   "metadata": {},
   "outputs": [
    {
     "data": {
      "text/plain": [
       "[u'water',\n",
       " u'cold',\n",
       " u'ice',\n",
       " u'salt',\n",
       " u'Salt',\n",
       " u'dry',\n",
       " u'fresh',\n",
       " u'liquid',\n",
       " u'boiling',\n",
       " u'milk']"
      ]
     },
     "execution_count": 400,
     "metadata": {},
     "output_type": "execute_result"
    }
   ],
   "source": [
    "spacy_closest(tokens, addv(vec(\"water\"), vec(\"frozen\")))"
   ]
  },
  {
   "cell_type": "markdown",
   "metadata": {},
   "source": [
    "You can even do analogies! For example, the words most similar to \"grass\":"
   ]
  },
  {
   "cell_type": "code",
   "execution_count": null,
   "metadata": {
    "scrolled": true
   },
   "outputs": [
    {
     "data": {
      "text/plain": [
       "[u'grass',\n",
       " u'lawn',\n",
       " u'trees',\n",
       " u'garden',\n",
       " u'GARDEN',\n",
       " u'sand',\n",
       " u'tree',\n",
       " u'soil',\n",
       " u'Green',\n",
       " u'green']"
      ]
     },
     "execution_count": 401,
     "metadata": {},
     "output_type": "execute_result"
    }
   ],
   "source": [
    "spacy_closest(tokens, vec(\"grass\"))"
   ]
  },
  {
   "cell_type": "markdown",
   "metadata": {},
   "source": [
    "If you take the difference of \"blue\" and \"sky\" and add it to grass, you get the analogous word (\"green\"):"
   ]
  },
  {
   "cell_type": "code",
   "execution_count": null,
   "metadata": {
    "scrolled": true
   },
   "outputs": [
    {
     "data": {
      "text/plain": [
       "[u'grass',\n",
       " u'Green',\n",
       " u'green',\n",
       " u'GREEN',\n",
       " u'yellow',\n",
       " u'red',\n",
       " u'Red',\n",
       " u'purple',\n",
       " u'lawn',\n",
       " u'pink']"
      ]
     },
     "execution_count": 280,
     "metadata": {},
     "output_type": "execute_result"
    }
   ],
   "source": [
    "# analogy: blue is to sky as X is to grass\n",
    "blue_to_sky = subtractv(vec(\"blue\"), vec(\"sky\"))\n",
    "spacy_closest(tokens, addv(blue_to_sky, vec(\"grass\")))"
   ]
  },
  {
   "cell_type": "markdown",
   "metadata": {},
   "source": [
    "## Sentence similarity"
   ]
  },
  {
   "cell_type": "markdown",
   "metadata": {},
   "source": [
    "To get the vector for a sentence, we simply average its component vectors, like so:"
   ]
  },
  {
   "cell_type": "code",
   "execution_count": null,
   "metadata": {},
   "outputs": [],
   "source": [
    "def sentvec(s):\n",
    "    sent = nlp(s)\n",
    "    return meanv([w.vector for w in sent])"
   ]
  },
  {
   "cell_type": "markdown",
   "metadata": {},
   "source": [
    "Let's find the sentence in our text file that is closest in \"meaning\" to an arbitrary input sentence. First, we'll get the list of sentences:"
   ]
  },
  {
   "cell_type": "code",
   "execution_count": null,
   "metadata": {
    "collapsed": true
   },
   "outputs": [],
   "source": [
    "sentences = list(doc.sents)"
   ]
  },
  {
   "cell_type": "markdown",
   "metadata": {},
   "source": [
    "The following function takes a list of sentences from a spaCy parse and compares them to an input sentence, sorting them by cosine similarity."
   ]
  },
  {
   "cell_type": "code",
   "execution_count": null,
   "metadata": {
    "collapsed": true
   },
   "outputs": [],
   "source": [
    "def spacy_closest_sent(space, input_str, n=10):\n",
    "    input_vec = sentvec(input_str)\n",
    "    return sorted(space,\n",
    "                  key=lambda x: cosine(np.mean([w.vector for w in x], axis=0), input_vec),\n",
    "                  reverse=True)[:n]"
   ]
  },
  {
   "cell_type": "markdown",
   "metadata": {},
   "source": [
    "Here are the sentences in *Dracula* closest in meaning to \"My favorite food is strawberry ice cream.\" (Extra linebreaks are present because we didn't strip them out when we originally read in the source text.)"
   ]
  },
  {
   "cell_type": "code",
   "execution_count": null,
   "metadata": {},
   "outputs": [
    {
     "name": "stdout",
     "output_type": "stream",
     "text": [
      "This, with some cheese\r\n",
      "and a salad and a bottle of old Tokay, of which I had two glasses, was\r\n",
      "my supper.\n",
      "---\n",
      "I got a cup of tea at the Aërated Bread Company\r\n",
      "and came down to Purfleet by the next train.\r\n",
      "\r\n",
      "\n",
      "---\n",
      "We get hot soup, or coffee, or tea; and\r\n",
      "off we go.\n",
      "---\n",
      "There is not even a toilet glass on my\r\n",
      "table, and I had to get the little shaving glass from my bag before I\r\n",
      "could either shave or brush my hair.\n",
      "---\n",
      "My own heart grew cold as ice,\r\n",
      "and I could hear the gasp of Arthur, as we recognised the features of\r\n",
      "Lucy Westenra.\n",
      "---\n",
      "I dined on what they\r\n",
      "called \"robber steak\"--bits of bacon, onion, and beef, seasoned with red\r\n",
      "pepper, and strung on sticks and roasted over the fire, in the simple\r\n",
      "style of the London cat's meat!\n",
      "---\n",
      "I believe they went to the trouble of putting an\r\n",
      "extra amount of garlic into our food; and I can't abide garlic.\n",
      "---\n",
      "Drink it off, like a good\r\n",
      "child.\n",
      "---\n",
      "I had for dinner, or\r\n",
      "rather supper, a chicken done up some way with red pepper, which was\r\n",
      "very good but thirsty.\n",
      "---\n",
      "I left Quincey lying down\r\n",
      "after having a glass of wine, and told the cook to get ready a good\r\n",
      "breakfast.\n",
      "---\n"
     ]
    }
   ],
   "source": [
    "for sent in spacy_closest_sent(sentences, \"My favorite food is strawberry ice cream.\"):\n",
    "    print sent.text\n",
    "    print \"---\""
   ]
  },
  {
   "cell_type": "markdown",
   "metadata": {},
   "source": [
    "## Further resources\n",
    "\n",
    "* [Word2vec](https://en.wikipedia.org/wiki/Word2vec) is another procedure for producing word vectors which uses a predictive approach rather than a context-counting approach. [This paper](http://clic.cimec.unitn.it/marco/publications/acl2014/baroni-etal-countpredict-acl2014.pdf) compares and contrasts the two approaches. (Spoiler: it's kind of a wash.)\n",
    "* If you want to train your own word vectors on a particular corpus, the popular Python library [gensim](https://radimrehurek.com/gensim/) has an implementation of Word2Vec that is relatively easy to use. [There's a good tutorial here.](https://rare-technologies.com/word2vec-tutorial/)\n",
    "* When you're working with vector spaces with high dimensionality and millions of vectors, iterating through your entire space calculating cosine similarities can be a drag. I use [Annoy](https://pypi.python.org/pypi/annoy) to make these calculations faster, and you should consider using it too."
   ]
  }
 ],
 "metadata": {
  "kernelspec": {
   "display_name": "Python 3",
   "language": "python",
   "name": "python3"
  },
  "language_info": {
   "codemirror_mode": {
    "name": "ipython",
    "version": 3
   },
   "file_extension": ".py",
   "mimetype": "text/x-python",
   "name": "python",
   "nbconvert_exporter": "python",
   "pygments_lexer": "ipython3",
   "version": "3.10.6"
  }
 },
 "nbformat": 4,
 "nbformat_minor": 2
}
