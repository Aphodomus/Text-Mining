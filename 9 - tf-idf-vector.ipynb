{
 "cells": [
  {
   "cell_type": "markdown",
   "metadata": {},
   "source": [
    "# **TF-IDF**\n",
    "É um dos esquemas de pesagem de palavras mais populares atualmente. Basicamente substitui no vetor que estavamos contando por um mecanismo da frequência da palavra no texto quanto no documento todo.\n",
    "\n",
    "<div align=\"center\" style=\"margin-top: 40px;\">\n",
    "    <img src=\"./images/image.png\" alt=\"Alt text\" width=\"400\"/>\n",
    "</div>"
   ]
  },
  {
   "cell_type": "markdown",
   "metadata": {},
   "source": [
    "### **Example**"
   ]
  },
  {
   "cell_type": "code",
   "execution_count": 1,
   "metadata": {},
   "outputs": [
    {
     "name": "stdout",
     "output_type": "stream",
     "text": [
      "C has 3 texts:\n",
      "t1 = The who is the band!\n",
      "t2 = who is the band?\n",
      "t3 = The band who plays the who.\n"
     ]
    }
   ],
   "source": [
    "C = ['The who is the band!', 'who is the band?', 'The band who plays the who.']\n",
    "\n",
    "print('C has %d texts:' % len(C))\n",
    "for i in range(len(C)):\n",
    "    print(f\"t{i+1} = {C[i]}\")"
   ]
  },
  {
   "cell_type": "code",
   "execution_count": 3,
   "metadata": {},
   "outputs": [],
   "source": [
    "import re\n",
    "\n",
    "def pre_process_corpus(corpus):\n",
    "    new_corpus = [doc.lower() for doc in corpus]\n",
    "    regex = r\"(?<!\\d)[\\!\\?.,;:-](?!\\d)\"\n",
    "    return [re.sub(regex, \"\", doc, 0) for doc in new_corpus]"
   ]
  },
  {
   "cell_type": "code",
   "execution_count": 4,
   "metadata": {},
   "outputs": [
    {
     "name": "stdout",
     "output_type": "stream",
     "text": [
      "['the who is the band', 'who is the band', 'the band who plays the who']\n"
     ]
    }
   ],
   "source": [
    "import sklearn\n",
    "import pandas as pd\n",
    "import nltk\n",
    "import re\n",
    "from sklearn.feature_extraction.text import CountVectorizer\n",
    "\n",
    "corpus = pre_process_corpus(C)\n",
    "print(corpus)"
   ]
  },
  {
   "cell_type": "code",
   "execution_count": 5,
   "metadata": {},
   "outputs": [
    {
     "name": "stdout",
     "output_type": "stream",
     "text": [
      "   band  is  plays  the  who\n",
      "0     1   1      0    2    1\n",
      "1     1   1      0    1    1\n",
      "2     1   0      1    2    2\n"
     ]
    }
   ],
   "source": [
    "vectorizer = CountVectorizer()\n",
    "doc_term_matriz = vectorizer.fit_transform(corpus)\n",
    "terms = vectorizer.get_feature_names_out()\n",
    "\n",
    "print(pd.DataFrame(doc_term_matriz.A, columns=terms).to_string())"
   ]
  },
  {
   "cell_type": "code",
   "execution_count": 6,
   "metadata": {},
   "outputs": [
    {
     "name": "stdout",
     "output_type": "stream",
     "text": [
      "       band        is     plays       the       who\n",
      "0  0.361359  0.465315  0.000000  0.722718  0.361359\n",
      "1  0.463334  0.596627  0.000000  0.463334  0.463334\n",
      "2  0.290291  0.000000  0.491506  0.580583  0.580583\n"
     ]
    }
   ],
   "source": [
    "from sklearn.feature_extraction.text import TfidfTransformer\n",
    "\n",
    "transformer = TfidfTransformer()\n",
    "tf_idf_matrix = transformer.fit_transform(doc_term_matriz)\n",
    "\n",
    "print(pd.DataFrame(tf_idf_matrix.A, columns=terms).to_string())"
   ]
  },
  {
   "cell_type": "markdown",
   "metadata": {},
   "source": [
    "Observe que, na medida em que os termos ocorrem com mais frequência no documento e menos na coleção, o valor do peso dele aumenta."
   ]
  }
 ],
 "metadata": {
  "kernelspec": {
   "display_name": "Python 3",
   "language": "python",
   "name": "python3"
  },
  "language_info": {
   "codemirror_mode": {
    "name": "ipython",
    "version": 3
   },
   "file_extension": ".py",
   "mimetype": "text/x-python",
   "name": "python",
   "nbconvert_exporter": "python",
   "pygments_lexer": "ipython3",
   "version": "3.10.6"
  },
  "orig_nbformat": 4
 },
 "nbformat": 4,
 "nbformat_minor": 2
}
