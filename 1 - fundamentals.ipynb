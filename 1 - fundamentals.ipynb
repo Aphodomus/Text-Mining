{
 "cells": [
  {
   "cell_type": "markdown",
   "metadata": {},
   "source": [
    "# **Text Mining and Analysis**\n",
    "A **Mineração e Análise Textual** tem a ver com usar métodos analíticos e NLP para derivar padrões de alta qualidade a partir de um texto.\n",
    "\n",
    "### **Text**\n",
    "Qualquer coisa que a gente consiga ler. É um arranjo simbólico de símbolos em um pedaço de escrita e que transmite algum tipo de **informação** em mensagem. Transmitir conhecimento a partir de uma junção de palavras.\n",
    "\n",
    "### **Text Mining, TDM (Text Data Mining), Text Analytics, Data Mining and Knowledge Discovery**\n",
    "É basicamente derivar informação de alta qualidade a partir de um texto.\n",
    "- Alta qualidade: \n",
    "    - Relevância: Informação relevante e últil.\n",
    "    - Novidade: É algo que a gente ainda não conhece.\n",
    "    - Interesse: Nos interessa por algum motivo específico.\n",
    "- Descobrir a partir de recursos computacionais informações novas e previamente desconhecidas através de automação de extração de informações de diferentes fontes de texto.\n",
    "- Estruturação de texto, identificação de padrões dentro de pedaços de texto estruturados, e interpreção e avaliação desse pedaço de texto organizado.\n",
    "- Tornar o **texto disponível para análise de dados** a partir de técnicas de NLP, além de outros diferentes tipos de métodos analíticos."
   ]
  }
 ],
 "metadata": {
  "language_info": {
   "name": "python"
  },
  "orig_nbformat": 4
 },
 "nbformat": 4,
 "nbformat_minor": 2
}
